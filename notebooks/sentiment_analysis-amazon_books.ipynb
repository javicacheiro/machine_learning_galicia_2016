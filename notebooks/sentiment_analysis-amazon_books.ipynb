{
 "cells": [
  {
   "cell_type": "markdown",
   "metadata": {},
   "source": [
    "# SENTIMENT ANALYSIS WITH SPARK ML"
   ]
  },
  {
   "cell_type": "markdown",
   "metadata": {},
   "source": [
    "# Spark ML Main Concepts\n",
    "\n",
    "- **DataFrame**: a table with built-in operations\n",
    "\n",
    "- **Transformer**: transforms one DataFrame into another DataFrame\n",
    "\n",
    "- **Estimator**: eg. a learning algorithm that trains on a DataFrame and produces a Model\n",
    "\n",
    "- **Pipeline**: chains Transformers and Estimators to produce a Model\n",
    "\n",
    "- **Evaluator**: measures how well a fitted Model does on held-out test data"
   ]
  },
  {
   "cell_type": "markdown",
   "metadata": {},
   "source": [
    "# Amazon product data\n",
    "We will use a [dataset](http://snap.stanford.edu/data/amazon/productGraph/categoryFiles/reviews_Books_5.json.gz)[1] that contains 8.9M book reviews from Amazon, spanning May 1996 - July 2014.\n",
    "\n",
    "Dataset characteristics:\n",
    "- Number of reviews: 8.9M\n",
    "- Size: 8.8GB (uncompressed)\n",
    "- HDFS blocks: 70 (each with 3 replicas)\n",
    "\n",
    "\n",
    "[1] Image-based recommendations on styles and substitutes\n",
    "J. McAuley, C. Targett, J. Shi, A. van den Hengel\n",
    "SIGIR, 2015\n",
    "http://jmcauley.ucsd.edu/data/amazon/"
   ]
  },
  {
   "cell_type": "markdown",
   "metadata": {},
   "source": [
    "# Load Data"
   ]
  },
  {
   "cell_type": "code",
   "execution_count": 1,
   "metadata": {
    "collapsed": false
   },
   "outputs": [
    {
     "name": "stdout",
     "output_type": "stream",
     "text": [
      "CPU times: user 8.26 ms, sys: 1.2 ms, total: 9.46 ms\n",
      "Wall time: 37.8 s\n"
     ]
    }
   ],
   "source": [
    "%%time\n",
    "raw_reviews = sqlContext.read.json('data/amazon/reviews_Books_5.json')"
   ]
  },
  {
   "cell_type": "code",
   "execution_count": 2,
   "metadata": {
    "collapsed": false,
    "scrolled": false
   },
   "outputs": [
    {
     "name": "stdout",
     "output_type": "stream",
     "text": [
      "root\n",
      " |-- asin: string (nullable = true)\n",
      " |-- helpful: array (nullable = true)\n",
      " |    |-- element: long (containsNull = true)\n",
      " |-- overall: double (nullable = true)\n",
      " |-- reviewText: string (nullable = true)\n",
      " |-- reviewTime: string (nullable = true)\n",
      " |-- reviewerID: string (nullable = true)\n",
      " |-- reviewerName: string (nullable = true)\n",
      " |-- summary: string (nullable = true)\n",
      " |-- unixReviewTime: long (nullable = true)\n",
      "\n"
     ]
    }
   ],
   "source": [
    "raw_reviews.printSchema()"
   ]
  },
  {
   "cell_type": "code",
   "execution_count": 3,
   "metadata": {
    "collapsed": false
   },
   "outputs": [
    {
     "name": "stdout",
     "output_type": "stream",
     "text": [
      "+--------------------+-------+\n",
      "|          reviewText|overall|\n",
      "+--------------------+-------+\n",
      "|Spiritually and m...|    5.0|\n",
      "|This is one my mu...|    5.0|\n",
      "+--------------------+-------+\n",
      "only showing top 2 rows\n",
      "\n",
      "CPU times: user 3.88 ms, sys: 998 µs, total: 4.88 ms\n",
      "Wall time: 3.01 s\n"
     ]
    }
   ],
   "source": [
    "%%time\n",
    "all_reviews = raw_reviews.select('reviewText', 'overall')\n",
    "all_reviews.cache()\n",
    "all_reviews.show(2)"
   ]
  },
  {
   "cell_type": "code",
   "execution_count": 4,
   "metadata": {
    "collapsed": false
   },
   "outputs": [
    {
     "name": "stdout",
     "output_type": "stream",
     "text": [
      "+-------+-------+\n",
      "|overall|  count|\n",
      "+-------+-------+\n",
      "|    1.0| 323833|\n",
      "|    3.0| 955189|\n",
      "|    5.0|4980815|\n",
      "|    4.0|2223094|\n",
      "|    2.0| 415110|\n",
      "+-------+-------+\n",
      "\n",
      "CPU times: user 3.66 ms, sys: 3.28 ms, total: 6.94 ms\n",
      "Wall time: 15.4 s\n"
     ]
    }
   ],
   "source": [
    "%%time\n",
    "all_reviews.groupBy('overall').count().show()"
   ]
  },
  {
   "cell_type": "markdown",
   "metadata": {},
   "source": [
    "# Prepare data\n",
    "We will avoid neutral reviews by keeping only reviews with 1 or 5 stars overall score.\n",
    "We will also filter out the reviews that contain no text."
   ]
  },
  {
   "cell_type": "code",
   "execution_count": 5,
   "metadata": {
    "collapsed": true
   },
   "outputs": [],
   "source": [
    "nonneutral_reviews = all_reviews.filter(\n",
    "    (all_reviews.overall == 1.0) | (all_reviews.overall == 5.0))\n",
    "reviews = nonneutral_reviews.filter(all_reviews.reviewText != '')"
   ]
  },
  {
   "cell_type": "code",
   "execution_count": 6,
   "metadata": {
    "collapsed": false
   },
   "outputs": [
    {
     "data": {
      "text/plain": [
       "DataFrame[reviewText: string, overall: double]"
      ]
     },
     "execution_count": 6,
     "metadata": {},
     "output_type": "execute_result"
    }
   ],
   "source": [
    "reviews.cache()\n",
    "all_reviews.unpersist()"
   ]
  },
  {
   "cell_type": "code",
   "execution_count": 7,
   "metadata": {
    "collapsed": false
   },
   "outputs": [
    {
     "name": "stdout",
     "output_type": "stream",
     "text": [
      "CPU times: user 37 µs, sys: 2.06 ms, total: 2.09 ms\n",
      "Wall time: 5.59 s\n"
     ]
    },
    {
     "data": {
      "text/plain": [
       "5304187"
      ]
     },
     "execution_count": 7,
     "metadata": {},
     "output_type": "execute_result"
    }
   ],
   "source": [
    "%%time\n",
    "reviews.count()"
   ]
  },
  {
   "cell_type": "markdown",
   "metadata": {},
   "source": [
    "# Split Data"
   ]
  },
  {
   "cell_type": "code",
   "execution_count": 8,
   "metadata": {
    "collapsed": true
   },
   "outputs": [],
   "source": [
    "trainingData, testData = reviews.randomSplit([0.8, 0.2])"
   ]
  },
  {
   "cell_type": "markdown",
   "metadata": {},
   "source": [
    "# Generate Pipeline\n",
    "![pipeline](http://hadoop.cesga.es/files/sentiment_analysis/pipeline.jpg)"
   ]
  },
  {
   "cell_type": "markdown",
   "metadata": {},
   "source": [
    "## Binarizer\n",
    "A transformer to convert numerical features to binary (0/1) features"
   ]
  },
  {
   "cell_type": "code",
   "execution_count": 9,
   "metadata": {
    "collapsed": false
   },
   "outputs": [],
   "source": [
    "from pyspark.ml.feature import Binarizer\n",
    "\n",
    "binarizer = Binarizer(threshold=2.5, inputCol='overall', outputCol='label')"
   ]
  },
  {
   "cell_type": "markdown",
   "metadata": {},
   "source": [
    "Let's see what it will do on data:"
   ]
  },
  {
   "cell_type": "code",
   "execution_count": 10,
   "metadata": {
    "collapsed": false
   },
   "outputs": [
    {
     "name": "stdout",
     "output_type": "stream",
     "text": [
      "+--------------------+-------+-----+\n",
      "|          reviewText|overall|label|\n",
      "+--------------------+-------+-----+\n",
      "|Spiritually and m...|    5.0|  1.0|\n",
      "|This is one my mu...|    5.0|  1.0|\n",
      "+--------------------+-------+-----+\n",
      "only showing top 2 rows\n",
      "\n"
     ]
    }
   ],
   "source": [
    "bin_reviews = binarizer.transform(reviews)\n",
    "bin_reviews.show(2)"
   ]
  },
  {
   "cell_type": "markdown",
   "metadata": {},
   "source": [
    "## Tokenizer\n",
    "A transformer that converts the input string to lowercase and then splits it by white spaces."
   ]
  },
  {
   "cell_type": "code",
   "execution_count": 11,
   "metadata": {
    "collapsed": false
   },
   "outputs": [],
   "source": [
    "from pyspark.ml.feature import Tokenizer\n",
    "tokenizer = Tokenizer(inputCol=\"reviewText\", outputCol=\"words\")"
   ]
  },
  {
   "cell_type": "markdown",
   "metadata": {},
   "source": [
    "Let's see what it will do on data:"
   ]
  },
  {
   "cell_type": "code",
   "execution_count": 12,
   "metadata": {
    "collapsed": false
   },
   "outputs": [
    {
     "name": "stdout",
     "output_type": "stream",
     "text": [
      "+--------------------+-------+-----+--------------------+\n",
      "|          reviewText|overall|label|               words|\n",
      "+--------------------+-------+-----+--------------------+\n",
      "|Spiritually and m...|    5.0|  1.0|[spiritually, and...|\n",
      "|This is one my mu...|    5.0|  1.0|[this, is, one, m...|\n",
      "|This book provide...|    5.0|  1.0|[this, book, prov...|\n",
      "|I first read THE ...|    5.0|  1.0|[i, first, read, ...|\n",
      "|A timeless classi...|    5.0|  1.0|[a, timeless, cla...|\n",
      "|Reading this made...|    5.0|  1.0|[reading, this, m...|\n",
      "|As you read, Gibr...|    5.0|  1.0|[as, you, read,, ...|\n",
      "|Deep, moving dram...|    5.0|  1.0|[deep,, moving, d...|\n",
      "|This is a timeles...|    5.0|  1.0|[this, is, a, tim...|\n",
      "|An amazing work. ...|    5.0|  1.0|[an, amazing, wor...|\n",
      "+--------------------+-------+-----+--------------------+\n",
      "only showing top 10 rows\n",
      "\n"
     ]
    }
   ],
   "source": [
    "tokenized_reviews = tokenizer.transform(bin_reviews)\n",
    "tokenized_reviews.show(10)"
   ]
  },
  {
   "cell_type": "markdown",
   "metadata": {},
   "source": [
    "## StopWordsRemover\n",
    "A transformer that filters out stop words from input. Note: null values from input array are preserved unless adding null to stopWords explicitly."
   ]
  },
  {
   "cell_type": "code",
   "execution_count": 13,
   "metadata": {
    "collapsed": true
   },
   "outputs": [],
   "source": [
    "from pyspark.ml.feature import StopWordsRemover\n",
    "remover = StopWordsRemover(inputCol=tokenizer.getOutputCol(), outputCol=\"filtered\")"
   ]
  },
  {
   "cell_type": "markdown",
   "metadata": {},
   "source": [
    "Let's see what it will do on data:"
   ]
  },
  {
   "cell_type": "code",
   "execution_count": 14,
   "metadata": {
    "collapsed": false
   },
   "outputs": [
    {
     "name": "stdout",
     "output_type": "stream",
     "text": [
      "+--------------------+-------+-----+--------------------+--------------------+\n",
      "|          reviewText|overall|label|               words|            filtered|\n",
      "+--------------------+-------+-----+--------------------+--------------------+\n",
      "|Spiritually and m...|    5.0|  1.0|[spiritually, and...|[spiritually, men...|\n",
      "|This is one my mu...|    5.0|  1.0|[this, is, one, m...|[books., masterpi...|\n",
      "+--------------------+-------+-----+--------------------+--------------------+\n",
      "only showing top 2 rows\n",
      "\n",
      "[u'spiritually', u'and', u'mentally', u'inspiring!', u'a', u'book', u'that', u'allows', u'you', u'to']\n",
      "[u'spiritually', u'mentally', u'inspiring!', u'book', u'allows', u'question', u'morals', u'help', u'discover', u'really']\n"
     ]
    }
   ],
   "source": [
    "removed_reviews = remover.transform(tokenized_reviews)\n",
    "removed_reviews.show(2)\n",
    "sample_review = removed_reviews.first()\n",
    "print sample_review['words'][:10]\n",
    "print sample_review['filtered'][:10]"
   ]
  },
  {
   "cell_type": "markdown",
   "metadata": {},
   "source": [
    "## HashingTF\n",
    "A Transformer that converts a sequence of words into a fixed-length feature Vector. It maps a sequence of terms to their term frequencies using a hashing function."
   ]
  },
  {
   "cell_type": "code",
   "execution_count": 15,
   "metadata": {
    "collapsed": true
   },
   "outputs": [],
   "source": [
    "from pyspark.ml.feature import HashingTF\n",
    "hashingTF = HashingTF(inputCol=remover.getOutputCol(), outputCol=\"features\")"
   ]
  },
  {
   "cell_type": "markdown",
   "metadata": {},
   "source": [
    "Let's see what it will do on data:"
   ]
  },
  {
   "cell_type": "code",
   "execution_count": 16,
   "metadata": {
    "collapsed": false,
    "scrolled": true
   },
   "outputs": [
    {
     "name": "stdout",
     "output_type": "stream",
     "text": [
      "+--------------------+-------+-----+--------------------+--------------------+--------------------+\n",
      "|          reviewText|overall|label|               words|            filtered|            features|\n",
      "+--------------------+-------+-----+--------------------+--------------------+--------------------+\n",
      "|Spiritually and m...|    5.0|  1.0|[spiritually, and...|[spiritually, men...|(262144,[15260,30...|\n",
      "|This is one my mu...|    5.0|  1.0|[this, is, one, m...|[books., masterpi...|(262144,[501,2326...|\n",
      "+--------------------+-------+-----+--------------------+--------------------+--------------------+\n",
      "only showing top 2 rows\n",
      "\n"
     ]
    },
    {
     "data": {
      "text/plain": [
       "SparseVector(262144, {15260: 1.0, 30697: 1.0, 53057: 1.0, 57834: 1.0, 96171: 1.0, 112792: 1.0, 118861: 1.0, 146153: 1.0, 146406: 1.0, 181834: 1.0, 192854: 1.0})"
      ]
     },
     "execution_count": 16,
     "metadata": {},
     "output_type": "execute_result"
    }
   ],
   "source": [
    "hashed_reviews = hashingTF.transform(removed_reviews)\n",
    "hashed_reviews.show(2)\n",
    "sample = hashed_reviews.first()\n",
    "sample['features']"
   ]
  },
  {
   "cell_type": "markdown",
   "metadata": {},
   "source": [
    "# Estimator\n",
    "## LogisticRegression"
   ]
  },
  {
   "cell_type": "code",
   "execution_count": 17,
   "metadata": {
    "collapsed": true
   },
   "outputs": [],
   "source": [
    "from pyspark.ml.classification import LogisticRegression\n",
    "lr = LogisticRegression(maxIter=10, regParam=0.01)"
   ]
  },
  {
   "cell_type": "markdown",
   "metadata": {},
   "source": [
    "# Pipeline"
   ]
  },
  {
   "cell_type": "code",
   "execution_count": 18,
   "metadata": {
    "collapsed": true
   },
   "outputs": [],
   "source": [
    "from pyspark.ml import Pipeline\n",
    "pipeline = Pipeline(stages=[binarizer, tokenizer, remover, hashingTF, lr])"
   ]
  },
  {
   "cell_type": "code",
   "execution_count": 19,
   "metadata": {
    "collapsed": false
   },
   "outputs": [
    {
     "name": "stdout",
     "output_type": "stream",
     "text": [
      "CPU times: user 16 ms, sys: 2.71 ms, total: 18.7 ms\n",
      "Wall time: 38.7 s\n"
     ]
    }
   ],
   "source": [
    "%%time\n",
    "pipeLineModel = pipeline.fit(trainingData)"
   ]
  },
  {
   "cell_type": "markdown",
   "metadata": {},
   "source": [
    "# Evaluation"
   ]
  },
  {
   "cell_type": "code",
   "execution_count": 20,
   "metadata": {
    "collapsed": false,
    "scrolled": true
   },
   "outputs": [
    {
     "name": "stderr",
     "output_type": "stream",
     "text": [
      "/usr/hdp/2.4.2.0-258/spark/python/pyspark/ml/classification.py:207: UserWarning: weights is deprecated. Use coefficients instead.\n",
      "  warnings.warn(\"weights is deprecated. Use coefficients instead.\")\n"
     ]
    },
    {
     "name": "stdout",
     "output_type": "stream",
     "text": [
      "Area under ROC:  0.966076886439\n",
      "CPU times: user 2.34 s, sys: 1.34 s, total: 3.68 s\n",
      "Wall time: 19.9 s\n"
     ]
    }
   ],
   "source": [
    "%%time\n",
    "from pyspark.ml.evaluation import BinaryClassificationEvaluator\n",
    "evaluator = BinaryClassificationEvaluator()\n",
    "\n",
    "predictions = pipeLineModel.transform(testData)\n",
    "\n",
    "aur = evaluator.evaluate(predictions)\n",
    "\n",
    "print 'Area under ROC: ', aur"
   ]
  },
  {
   "cell_type": "markdown",
   "metadata": {},
   "source": [
    "# Hyperparameter Tuning"
   ]
  },
  {
   "cell_type": "code",
   "execution_count": 21,
   "metadata": {
    "collapsed": false
   },
   "outputs": [
    {
     "name": "stdout",
     "output_type": "stream",
     "text": [
      "CPU times: user 20.2 s, sys: 10.8 s, total: 31.1 s\n",
      "Wall time: 12min 46s\n"
     ]
    }
   ],
   "source": [
    "%%time\n",
    "from pyspark.ml.tuning import ParamGridBuilder, CrossValidator\n",
    "param_grid = ParamGridBuilder() \\\n",
    "            .addGrid(hashingTF.numFeatures, [10000, 100000]) \\\n",
    "            .addGrid(lr.regParam, [0.01, 0.1, 1.0]) \\\n",
    "            .addGrid(lr.maxIter, [10, 20]) \\\n",
    "            .build()\n",
    "            \n",
    "cv = (CrossValidator()\n",
    "      .setEstimator(pipeline)\n",
    "      .setEvaluator(evaluator)\n",
    "      .setEstimatorParamMaps(param_grid)\n",
    "      .setNumFolds(3))\n",
    "\n",
    "cv_model = cv.fit(trainingData)"
   ]
  },
  {
   "cell_type": "code",
   "execution_count": 22,
   "metadata": {
    "collapsed": false
   },
   "outputs": [
    {
     "name": "stdout",
     "output_type": "stream",
     "text": [
      "Area under ROC:  0.968664347321\n",
      "CPU times: user 942 ms, sys: 561 ms, total: 1.5 s\n",
      "Wall time: 12.6 s\n"
     ]
    }
   ],
   "source": [
    "%%time\n",
    "new_predictions = cv_model.transform(testData)\n",
    "new_aur = evaluator.evaluate(new_predictions)\n",
    "print 'Area under ROC: ', new_aur"
   ]
  },
  {
   "cell_type": "markdown",
   "metadata": {},
   "source": [
    "# Retrieving the parameters of the best model"
   ]
  },
  {
   "cell_type": "code",
   "execution_count": 26,
   "metadata": {
    "collapsed": false
   },
   "outputs": [
    {
     "name": "stdout",
     "output_type": "stream",
     "text": [
      "bestModel Type:  <class 'pyspark.ml.pipeline.PipelineModel'>\n",
      "bestModel Stages:  [Binarizer_4e75a232715a7b413190, Tokenizer_4341864d68f1fca3846c, StopWordsRemover_4de29c833c5925392818, HashingTF_4117a4ad7d3c7e10d67a, LogisticRegression_46eea6e84cab6d486cb2]\n"
     ]
    }
   ],
   "source": [
    "best_model = cv_model.bestModel\n",
    "print 'bestModel Type: ', type(best_model)\n",
    "print 'bestModel Stages: ', best_model.stages\n",
    "best_tokenizer = best_model.stages[3]\n",
    "best_lr = best_model.stages[4]"
   ]
  },
  {
   "cell_type": "code",
   "execution_count": 27,
   "metadata": {
    "collapsed": false,
    "scrolled": true
   },
   "outputs": [
    {
     "name": "stdout",
     "output_type": "stream",
     "text": [
      "{Param(parent='HashingTF_4117a4ad7d3c7e10d67a', name='outputCol', doc='output column name.'): 'features', Param(parent='LogisticRegression_46eea6e84cab6d486cb2', name='maxIter', doc='max number of iterations (>= 0).'): 20, Param(parent='HashingTF_4117a4ad7d3c7e10d67a', name='inputCol', doc='input column name.'): 'filtered', Param(parent='HashingTF_4117a4ad7d3c7e10d67a', name='numFeatures', doc='number of features.'): 100000, Param(parent='LogisticRegression_46eea6e84cab6d486cb2', name='regParam', doc='regularization parameter (>= 0).'): 0.1}\n"
     ]
    }
   ],
   "source": [
    "print best_tokenizer.extractParamMap()\n",
    "# numFeatures: 100000, regParam: 0.1, maxIter: 20"
   ]
  },
  {
   "cell_type": "code",
   "execution_count": 28,
   "metadata": {
    "collapsed": false
   },
   "outputs": [
    {
     "name": "stdout",
     "output_type": "stream",
     "text": [
      "Intercept:  2.60999655811\n",
      "First 5 LR weights:  [-0.0012044   0.03860943 -0.33466001  0.03434626  0.00059916]\n"
     ]
    }
   ],
   "source": [
    "print 'Intercept: ', best_lr.intercept\n",
    "print 'First 5 LR weights: ', best_lr.weights[:5]"
   ]
  },
  {
   "cell_type": "markdown",
   "metadata": {},
   "source": [
    "# Plotting Data"
   ]
  },
  {
   "cell_type": "markdown",
   "metadata": {},
   "source": [
    "We can now print the top 10 most words in positive and negative reviews"
   ]
  },
  {
   "cell_type": "code",
   "execution_count": 16,
   "metadata": {
    "collapsed": false
   },
   "outputs": [
    {
     "data": {
      "text/html": [
       "\n",
       "    <div class=\"bk-root\">\n",
       "        <a href=\"http://bokeh.pydata.org\" target=\"_blank\" class=\"bk-logo bk-logo-small bk-logo-notebook\"></a>\n",
       "        <span id=\"86861b78-e720-4a4c-a777-7916a44354fa\">Loading BokehJS ...</span>\n",
       "    </div>"
      ]
     },
     "metadata": {},
     "output_type": "display_data"
    },
    {
     "data": {
      "application/javascript": [
       "\n",
       "(function(global) {\n",
       "  function now() {\n",
       "    return new Date();\n",
       "  }\n",
       "\n",
       "  if (typeof (window._bokeh_onload_callbacks) === \"undefined\") {\n",
       "    window._bokeh_onload_callbacks = [];\n",
       "  }\n",
       "\n",
       "  function run_callbacks() {\n",
       "    window._bokeh_onload_callbacks.forEach(function(callback) { callback() });\n",
       "    delete window._bokeh_onload_callbacks\n",
       "    console.info(\"Bokeh: all callbacks have finished\");\n",
       "  }\n",
       "\n",
       "  function load_libs(js_urls, callback) {\n",
       "    window._bokeh_onload_callbacks.push(callback);\n",
       "    if (window._bokeh_is_loading > 0) {\n",
       "      console.log(\"Bokeh: BokehJS is being loaded, scheduling callback at\", now());\n",
       "      return null;\n",
       "    }\n",
       "    if (js_urls == null || js_urls.length === 0) {\n",
       "      run_callbacks();\n",
       "      return null;\n",
       "    }\n",
       "    console.log(\"Bokeh: BokehJS not loaded, scheduling load and callback at\", now());\n",
       "    window._bokeh_is_loading = js_urls.length;\n",
       "    for (var i = 0; i < js_urls.length; i++) {\n",
       "      var url = js_urls[i];\n",
       "      var s = document.createElement('script');\n",
       "      s.src = url;\n",
       "      s.async = false;\n",
       "      s.onreadystatechange = s.onload = function() {\n",
       "        window._bokeh_is_loading--;\n",
       "        if (window._bokeh_is_loading === 0) {\n",
       "          console.log(\"Bokeh: all BokehJS libraries loaded\");\n",
       "          run_callbacks()\n",
       "        }\n",
       "      };\n",
       "      s.onerror = function() {\n",
       "        console.warn(\"failed to load library \" + url);\n",
       "      };\n",
       "      console.log(\"Bokeh: injecting script tag for BokehJS library: \", url);\n",
       "      document.getElementsByTagName(\"head\")[0].appendChild(s);\n",
       "    }\n",
       "  };\n",
       "\n",
       "  var js_urls = ['https://cdn.pydata.org/bokeh/release/bokeh-0.12.0.min.js', 'https://cdn.pydata.org/bokeh/release/bokeh-widgets-0.12.0.min.js', 'https://cdn.pydata.org/bokeh/release/bokeh-compiler-0.12.0.min.js'];\n",
       "\n",
       "  var inline_js = [\n",
       "    function(Bokeh) {\n",
       "      Bokeh.set_log_level(\"info\");\n",
       "    },\n",
       "    \n",
       "    function(Bokeh) {\n",
       "      Bokeh.$(\"#86861b78-e720-4a4c-a777-7916a44354fa\").text(\"BokehJS successfully loaded\");\n",
       "    },\n",
       "    function(Bokeh) {\n",
       "      console.log(\"Bokeh: injecting CSS: https://cdn.pydata.org/bokeh/release/bokeh-0.12.0.min.css\");\n",
       "      Bokeh.embed.inject_css(\"https://cdn.pydata.org/bokeh/release/bokeh-0.12.0.min.css\");\n",
       "      console.log(\"Bokeh: injecting CSS: https://cdn.pydata.org/bokeh/release/bokeh-widgets-0.12.0.min.css\");\n",
       "      Bokeh.embed.inject_css(\"https://cdn.pydata.org/bokeh/release/bokeh-widgets-0.12.0.min.css\");\n",
       "    }\n",
       "  ];\n",
       "\n",
       "  function run_inline_js() {\n",
       "    for (var i = 0; i < inline_js.length; i++) {\n",
       "      inline_js[i](window.Bokeh);\n",
       "    }\n",
       "  }\n",
       "\n",
       "  if (window._bokeh_is_loading === 0) {\n",
       "    console.log(\"Bokeh: BokehJS loaded, going straight to plotting\");\n",
       "    run_inline_js();\n",
       "  } else {\n",
       "    load_libs(js_urls, function() {\n",
       "      console.log(\"Bokeh: BokehJS plotting callback run at\", now());\n",
       "      run_inline_js();\n",
       "    });\n",
       "  }\n",
       "}(this));"
      ]
     },
     "metadata": {},
     "output_type": "display_data"
    }
   ],
   "source": [
    "%matplotlib inline\n",
    "from bokeh.charts import Bar, show\n",
    "from bokeh.io import output_notebook\n",
    "from bokeh.charts.attributes import cat\n",
    "output_notebook()"
   ]
  },
  {
   "cell_type": "code",
   "execution_count": 17,
   "metadata": {
    "collapsed": false
   },
   "outputs": [
    {
     "data": {
      "text/html": [
       "\n",
       "\n",
       "    <div class=\"bk-root\">\n",
       "        <div class=\"plotdiv\" id=\"9cf3550a-a4a3-495e-9515-500f503ebff1\"></div>\n",
       "    </div>\n",
       "<script type=\"text/javascript\">\n",
       "  \n",
       "  (function(global) {\n",
       "    function now() {\n",
       "      return new Date();\n",
       "    }\n",
       "  \n",
       "    if (typeof (window._bokeh_onload_callbacks) === \"undefined\") {\n",
       "      window._bokeh_onload_callbacks = [];\n",
       "    }\n",
       "  \n",
       "    function run_callbacks() {\n",
       "      window._bokeh_onload_callbacks.forEach(function(callback) { callback() });\n",
       "      delete window._bokeh_onload_callbacks\n",
       "      console.info(\"Bokeh: all callbacks have finished\");\n",
       "    }\n",
       "  \n",
       "    function load_libs(js_urls, callback) {\n",
       "      window._bokeh_onload_callbacks.push(callback);\n",
       "      if (window._bokeh_is_loading > 0) {\n",
       "        console.log(\"Bokeh: BokehJS is being loaded, scheduling callback at\", now());\n",
       "        return null;\n",
       "      }\n",
       "      if (js_urls == null || js_urls.length === 0) {\n",
       "        run_callbacks();\n",
       "        return null;\n",
       "      }\n",
       "      console.log(\"Bokeh: BokehJS not loaded, scheduling load and callback at\", now());\n",
       "      window._bokeh_is_loading = js_urls.length;\n",
       "      for (var i = 0; i < js_urls.length; i++) {\n",
       "        var url = js_urls[i];\n",
       "        var s = document.createElement('script');\n",
       "        s.src = url;\n",
       "        s.async = false;\n",
       "        s.onreadystatechange = s.onload = function() {\n",
       "          window._bokeh_is_loading--;\n",
       "          if (window._bokeh_is_loading === 0) {\n",
       "            console.log(\"Bokeh: all BokehJS libraries loaded\");\n",
       "            run_callbacks()\n",
       "          }\n",
       "        };\n",
       "        s.onerror = function() {\n",
       "          console.warn(\"failed to load library \" + url);\n",
       "        };\n",
       "        console.log(\"Bokeh: injecting script tag for BokehJS library: \", url);\n",
       "        document.getElementsByTagName(\"head\")[0].appendChild(s);\n",
       "      }\n",
       "    };var element = document.getElementById(\"9cf3550a-a4a3-495e-9515-500f503ebff1\");\n",
       "    if (element == null) {\n",
       "      console.log(\"Bokeh: ERROR: autoload.js configured with elementid '9cf3550a-a4a3-495e-9515-500f503ebff1' but no matching script tag was found. \")\n",
       "      return false;\n",
       "    }\n",
       "  \n",
       "    var js_urls = [];\n",
       "  \n",
       "    var inline_js = [\n",
       "      function(Bokeh) {\n",
       "        Bokeh.$(function() {\n",
       "            var docs_json = {\"97524f36-0a16-4b3c-8917-188f9e64745b\":{\"roots\":{\"references\":[{\"attributes\":{\"data_source\":{\"id\":\"7428761f-713b-4fd2-ad62-15d892d91101\",\"type\":\"ColumnDataSource\"},\"glyph\":{\"id\":\"df5bd3e7-1c5f-4887-ab3b-517b48486ba7\",\"type\":\"Rect\"},\"hover_glyph\":null,\"nonselection_glyph\":null,\"selection_glyph\":null},\"id\":\"0b903be2-a6ff-451e-8a08-35c20a21e091\",\"type\":\"GlyphRenderer\"},{\"attributes\":{},\"id\":\"1ae0f1fd-3de2-4736-90d6-57ac8ebd7acc\",\"type\":\"BasicTicker\"},{\"attributes\":{\"bottom_units\":\"screen\",\"fill_alpha\":{\"value\":0.5},\"fill_color\":{\"value\":\"lightgrey\"},\"left_units\":\"screen\",\"level\":\"overlay\",\"line_alpha\":{\"value\":1.0},\"line_color\":{\"value\":\"black\"},\"line_dash\":[4,4],\"line_width\":{\"value\":2},\"plot\":null,\"render_mode\":\"css\",\"right_units\":\"screen\",\"top_units\":\"screen\"},\"id\":\"65c79461-b92d-49fe-9507-3d131b710b3d\",\"type\":\"BoxAnnotation\"},{\"attributes\":{},\"id\":\"62a703d5-75c4-46c3-8bb6-baafc08ac517\",\"type\":\"CategoricalTickFormatter\"},{\"attributes\":{\"legends\":[[\"book\",[{\"id\":\"4c0201d5-2793-4cb9-af0b-314cb6c6661d\",\"type\":\"GlyphRenderer\"}]],[\"read\",[{\"id\":\"0b903be2-a6ff-451e-8a08-35c20a21e091\",\"type\":\"GlyphRenderer\"}]],[\"story\",[{\"id\":\"11c513ec-c043-4614-a690-65d0563e098e\",\"type\":\"GlyphRenderer\"}]],[\"love\",[{\"id\":\"1173aa53-f451-4864-8cce-ce1003305979\",\"type\":\"GlyphRenderer\"}]],[\"just\",[{\"id\":\"fa8922aa-fe4a-47f0-b20b-2478ce2d40bf\",\"type\":\"GlyphRenderer\"}]],[\"like\",[{\"id\":\"6b1b20ba-4755-4caa-8093-c4407299e761\",\"type\":\"GlyphRenderer\"}]],[\"great\",[{\"id\":\"15287930-dfd6-4d31-abaa-85b02b1800f7\",\"type\":\"GlyphRenderer\"}]],[\"really\",[{\"id\":\"4353ea27-082e-49e2-aa56-a96bb9d9a971\",\"type\":\"GlyphRenderer\"}]],[\"good\",[{\"id\":\"8bc5a307-9863-43c1-bb07-2e769e3c7af9\",\"type\":\"GlyphRenderer\"}]],[\"books\",[{\"id\":\"9bce5f1d-d401-46e9-893a-d0a491218267\",\"type\":\"GlyphRenderer\"}]]],\"plot\":{\"id\":\"4ce75b3a-8aa9-4768-96d9-c5c0fd158351\",\"subtype\":\"Chart\",\"type\":\"Plot\"}},\"id\":\"e6b4a39a-26fd-4a0e-973c-e095937121e0\",\"type\":\"Legend\"},{\"attributes\":{\"callback\":null,\"column_names\":[\"line_color\",\"line_alpha\",\"color\",\"fill_alpha\",\"height\",\"width\",\"y\",\"x\",\"label\"],\"data\":{\"Word\":[\"book\"],\"chart_index\":[{\"Word\":\"book\"}],\"color\":[\"#f22c40\"],\"fill_alpha\":[0.8],\"height\":[5579397.0],\"label\":[{\"Word\":\"book\"}],\"line_alpha\":[1.0],\"line_color\":[\"white\"],\"width\":[0.8],\"x\":[\"book\"],\"y\":[2789698.5]}},\"id\":\"d4df564f-9bbf-4839-938b-3ae1ed0de835\",\"type\":\"ColumnDataSource\"},{\"attributes\":{\"fill_alpha\":{\"field\":\"fill_alpha\"},\"fill_color\":{\"field\":\"color\"},\"height\":{\"field\":\"height\",\"units\":\"data\"},\"line_color\":{\"field\":\"line_color\"},\"width\":{\"field\":\"width\",\"units\":\"data\"},\"x\":{\"field\":\"x\"},\"y\":{\"field\":\"y\"}},\"id\":\"5666926f-b3e7-4d7d-afe7-ac33e2027247\",\"type\":\"Rect\"},{\"attributes\":{\"data_source\":{\"id\":\"35cf04c7-0cd8-450e-9c8c-08adf9ab010a\",\"type\":\"ColumnDataSource\"},\"glyph\":{\"id\":\"2697017b-5ea5-496b-b06a-d59d27982be0\",\"type\":\"Rect\"},\"hover_glyph\":null,\"nonselection_glyph\":null,\"selection_glyph\":null},\"id\":\"11c513ec-c043-4614-a690-65d0563e098e\",\"type\":\"GlyphRenderer\"},{\"attributes\":{\"fill_alpha\":{\"field\":\"fill_alpha\"},\"fill_color\":{\"field\":\"color\"},\"height\":{\"field\":\"height\",\"units\":\"data\"},\"line_color\":{\"field\":\"line_color\"},\"width\":{\"field\":\"width\",\"units\":\"data\"},\"x\":{\"field\":\"x\"},\"y\":{\"field\":\"y\"}},\"id\":\"2f577c3f-9dbd-4f36-b950-cf4c1770ccb2\",\"type\":\"Rect\"},{\"attributes\":{\"plot\":{\"id\":\"4ce75b3a-8aa9-4768-96d9-c5c0fd158351\",\"subtype\":\"Chart\",\"type\":\"Plot\"}},\"id\":\"96d5e67b-31e2-4914-ae44-22a78a1bc32e\",\"type\":\"ResetTool\"},{\"attributes\":{\"callback\":null,\"column_names\":[\"line_color\",\"line_alpha\",\"color\",\"fill_alpha\",\"height\",\"width\",\"y\",\"x\",\"label\"],\"data\":{\"Word\":[\"good\"],\"chart_index\":[{\"Word\":\"good\"}],\"color\":[\"#f22c40\"],\"fill_alpha\":[0.8],\"height\":[1103518.0],\"label\":[{\"Word\":\"good\"}],\"line_alpha\":[1.0],\"line_color\":[\"white\"],\"width\":[0.8],\"x\":[\"good\"],\"y\":[551759.0]}},\"id\":\"5535893d-1cbf-4551-b83b-6629d43e3e51\",\"type\":\"ColumnDataSource\"},{\"attributes\":{\"data_source\":{\"id\":\"d4df564f-9bbf-4839-938b-3ae1ed0de835\",\"type\":\"ColumnDataSource\"},\"glyph\":{\"id\":\"0f82bdae-24df-40f5-b112-d803ee2a081e\",\"type\":\"Rect\"},\"hover_glyph\":null,\"nonselection_glyph\":null,\"selection_glyph\":null},\"id\":\"4c0201d5-2793-4cb9-af0b-314cb6c6661d\",\"type\":\"GlyphRenderer\"},{\"attributes\":{\"fill_alpha\":{\"field\":\"fill_alpha\"},\"fill_color\":{\"field\":\"color\"},\"height\":{\"field\":\"height\",\"units\":\"data\"},\"line_color\":{\"field\":\"line_color\"},\"width\":{\"field\":\"width\",\"units\":\"data\"},\"x\":{\"field\":\"x\"},\"y\":{\"field\":\"y\"}},\"id\":\"634b1752-493f-47d0-b68a-4651a946c139\",\"type\":\"Rect\"},{\"attributes\":{\"data_source\":{\"id\":\"2494518c-5cc2-4f27-855d-291df32680a6\",\"type\":\"ColumnDataSource\"},\"glyph\":{\"id\":\"2f577c3f-9dbd-4f36-b950-cf4c1770ccb2\",\"type\":\"Rect\"},\"hover_glyph\":null,\"nonselection_glyph\":null,\"selection_glyph\":null},\"id\":\"9bce5f1d-d401-46e9-893a-d0a491218267\",\"type\":\"GlyphRenderer\"},{\"attributes\":{},\"id\":\"e9691a06-9a3b-46aa-a4f0-17ae53644158\",\"type\":\"BasicTickFormatter\"},{\"attributes\":{\"callback\":null,\"end\":5858366.85},\"id\":\"eace5e7a-eb09-4b94-bf7c-a27cafba551a\",\"type\":\"Range1d\"},{\"attributes\":{\"callback\":null,\"column_names\":[\"line_color\",\"line_alpha\",\"color\",\"fill_alpha\",\"height\",\"width\",\"y\",\"x\",\"label\"],\"data\":{\"Word\":[\"really\"],\"chart_index\":[{\"Word\":\"really\"}],\"color\":[\"#f22c40\"],\"fill_alpha\":[0.8],\"height\":[1198423.0],\"label\":[{\"Word\":\"really\"}],\"line_alpha\":[1.0],\"line_color\":[\"white\"],\"width\":[0.8],\"x\":[\"really\"],\"y\":[599211.5]}},\"id\":\"7e5cf662-ebb8-4ef1-8c6e-9e2ed0a16834\",\"type\":\"ColumnDataSource\"},{\"attributes\":{\"axis_label\":\"Sum( Count )\",\"formatter\":{\"id\":\"e9691a06-9a3b-46aa-a4f0-17ae53644158\",\"type\":\"BasicTickFormatter\"},\"plot\":{\"id\":\"4ce75b3a-8aa9-4768-96d9-c5c0fd158351\",\"subtype\":\"Chart\",\"type\":\"Plot\"},\"ticker\":{\"id\":\"1ae0f1fd-3de2-4736-90d6-57ac8ebd7acc\",\"type\":\"BasicTicker\"}},\"id\":\"168160ad-57a7-4448-8de4-b7f208b23ae5\",\"type\":\"LinearAxis\"},{\"attributes\":{\"fill_alpha\":{\"field\":\"fill_alpha\"},\"fill_color\":{\"field\":\"color\"},\"height\":{\"field\":\"height\",\"units\":\"data\"},\"line_color\":{\"field\":\"line_color\"},\"width\":{\"field\":\"width\",\"units\":\"data\"},\"x\":{\"field\":\"x\"},\"y\":{\"field\":\"y\"}},\"id\":\"4d6ea78a-e3e2-4ee2-852a-f2598b159ea0\",\"type\":\"Rect\"},{\"attributes\":{\"callback\":null,\"column_names\":[\"line_color\",\"line_alpha\",\"color\",\"fill_alpha\",\"height\",\"width\",\"y\",\"x\",\"label\"],\"data\":{\"Word\":[\"like\"],\"chart_index\":[{\"Word\":\"like\"}],\"color\":[\"#f22c40\"],\"fill_alpha\":[0.8],\"height\":[1588492.0],\"label\":[{\"Word\":\"like\"}],\"line_alpha\":[1.0],\"line_color\":[\"white\"],\"width\":[0.8],\"x\":[\"like\"],\"y\":[794246.0]}},\"id\":\"f9400cab-26c2-47fe-b70b-e95a91379a9a\",\"type\":\"ColumnDataSource\"},{\"attributes\":{},\"id\":\"a78c8256-33b9-45fe-b68b-a812d81f7aa5\",\"type\":\"CategoricalTicker\"},{\"attributes\":{\"plot\":null,\"text\":\"Top 10 words in positive reviews\"},\"id\":\"43048355-f052-4b27-aa22-70a9132cd4ef\",\"type\":\"Title\"},{\"attributes\":{\"callback\":null,\"column_names\":[\"line_color\",\"line_alpha\",\"color\",\"fill_alpha\",\"height\",\"width\",\"y\",\"x\",\"label\"],\"data\":{\"Word\":[\"story\"],\"chart_index\":[{\"Word\":\"story\"}],\"color\":[\"#f22c40\"],\"fill_alpha\":[0.8],\"height\":[1883151.0],\"label\":[{\"Word\":\"story\"}],\"line_alpha\":[1.0],\"line_color\":[\"white\"],\"width\":[0.8],\"x\":[\"story\"],\"y\":[941575.5]}},\"id\":\"35cf04c7-0cd8-450e-9c8c-08adf9ab010a\",\"type\":\"ColumnDataSource\"},{\"attributes\":{\"callback\":null,\"column_names\":[\"line_color\",\"line_alpha\",\"color\",\"fill_alpha\",\"height\",\"width\",\"y\",\"x\",\"label\"],\"data\":{\"Word\":[\"just\"],\"chart_index\":[{\"Word\":\"just\"}],\"color\":[\"#f22c40\"],\"fill_alpha\":[0.8],\"height\":[1618975.0],\"label\":[{\"Word\":\"just\"}],\"line_alpha\":[1.0],\"line_color\":[\"white\"],\"width\":[0.8],\"x\":[\"just\"],\"y\":[809487.5]}},\"id\":\"c1567979-4686-463c-b211-0880f382612b\",\"type\":\"ColumnDataSource\"},{\"attributes\":{\"data_source\":{\"id\":\"61e1eba5-09cb-4422-8bae-f89ea3e5852e\",\"type\":\"ColumnDataSource\"},\"glyph\":{\"id\":\"5666926f-b3e7-4d7d-afe7-ac33e2027247\",\"type\":\"Rect\"},\"hover_glyph\":null,\"nonselection_glyph\":null,\"selection_glyph\":null},\"id\":\"15287930-dfd6-4d31-abaa-85b02b1800f7\",\"type\":\"GlyphRenderer\"},{\"attributes\":{\"data_source\":{\"id\":\"7e5cf662-ebb8-4ef1-8c6e-9e2ed0a16834\",\"type\":\"ColumnDataSource\"},\"glyph\":{\"id\":\"f235f872-1efd-4f49-acab-348ac369498c\",\"type\":\"Rect\"},\"hover_glyph\":null,\"nonselection_glyph\":null,\"selection_glyph\":null},\"id\":\"4353ea27-082e-49e2-aa56-a96bb9d9a971\",\"type\":\"GlyphRenderer\"},{\"attributes\":{\"fill_alpha\":{\"field\":\"fill_alpha\"},\"fill_color\":{\"field\":\"color\"},\"height\":{\"field\":\"height\",\"units\":\"data\"},\"line_color\":{\"field\":\"line_color\"},\"width\":{\"field\":\"width\",\"units\":\"data\"},\"x\":{\"field\":\"x\"},\"y\":{\"field\":\"y\"}},\"id\":\"2697017b-5ea5-496b-b06a-d59d27982be0\",\"type\":\"Rect\"},{\"attributes\":{\"plot\":{\"id\":\"4ce75b3a-8aa9-4768-96d9-c5c0fd158351\",\"subtype\":\"Chart\",\"type\":\"Plot\"}},\"id\":\"733f10b5-70ef-4291-9bfe-d861cb12774d\",\"type\":\"PanTool\"},{\"attributes\":{\"plot\":{\"id\":\"4ce75b3a-8aa9-4768-96d9-c5c0fd158351\",\"subtype\":\"Chart\",\"type\":\"Plot\"}},\"id\":\"f2b759b8-abe4-4ecb-a258-f325bcd8067b\",\"type\":\"HelpTool\"},{\"attributes\":{\"fill_alpha\":{\"field\":\"fill_alpha\"},\"fill_color\":{\"field\":\"color\"},\"height\":{\"field\":\"height\",\"units\":\"data\"},\"line_color\":{\"field\":\"line_color\"},\"width\":{\"field\":\"width\",\"units\":\"data\"},\"x\":{\"field\":\"x\"},\"y\":{\"field\":\"y\"}},\"id\":\"f235f872-1efd-4f49-acab-348ac369498c\",\"type\":\"Rect\"},{\"attributes\":{\"fill_alpha\":{\"field\":\"fill_alpha\"},\"fill_color\":{\"field\":\"color\"},\"height\":{\"field\":\"height\",\"units\":\"data\"},\"line_color\":{\"field\":\"line_color\"},\"width\":{\"field\":\"width\",\"units\":\"data\"},\"x\":{\"field\":\"x\"},\"y\":{\"field\":\"y\"}},\"id\":\"6ec35de2-4a57-473f-a09b-65750178e19e\",\"type\":\"Rect\"},{\"attributes\":{\"callback\":null,\"column_names\":[\"line_color\",\"line_alpha\",\"color\",\"fill_alpha\",\"height\",\"width\",\"y\",\"x\",\"label\"],\"data\":{\"Word\":[\"books\"],\"chart_index\":[{\"Word\":\"books\"}],\"color\":[\"#f22c40\"],\"fill_alpha\":[0.8],\"height\":[1087301.0],\"label\":[{\"Word\":\"books\"}],\"line_alpha\":[1.0],\"line_color\":[\"white\"],\"width\":[0.8],\"x\":[\"books\"],\"y\":[543650.5]}},\"id\":\"2494518c-5cc2-4f27-855d-291df32680a6\",\"type\":\"ColumnDataSource\"},{\"attributes\":{\"fill_alpha\":{\"field\":\"fill_alpha\"},\"fill_color\":{\"field\":\"color\"},\"height\":{\"field\":\"height\",\"units\":\"data\"},\"line_color\":{\"field\":\"line_color\"},\"width\":{\"field\":\"width\",\"units\":\"data\"},\"x\":{\"field\":\"x\"},\"y\":{\"field\":\"y\"}},\"id\":\"0f82bdae-24df-40f5-b112-d803ee2a081e\",\"type\":\"Rect\"},{\"attributes\":{\"axis_label\":\"Word\",\"formatter\":{\"id\":\"62a703d5-75c4-46c3-8bb6-baafc08ac517\",\"type\":\"CategoricalTickFormatter\"},\"major_label_orientation\":0.7853981633974483,\"plot\":{\"id\":\"4ce75b3a-8aa9-4768-96d9-c5c0fd158351\",\"subtype\":\"Chart\",\"type\":\"Plot\"},\"ticker\":{\"id\":\"a78c8256-33b9-45fe-b68b-a812d81f7aa5\",\"type\":\"CategoricalTicker\"}},\"id\":\"7b89cb68-7a22-4931-a104-1657f583415a\",\"type\":\"CategoricalAxis\"},{\"attributes\":{},\"id\":\"597da506-490f-41cd-ac83-af942cd93ca5\",\"type\":\"ToolEvents\"},{\"attributes\":{\"overlay\":{\"id\":\"65c79461-b92d-49fe-9507-3d131b710b3d\",\"type\":\"BoxAnnotation\"},\"plot\":{\"id\":\"4ce75b3a-8aa9-4768-96d9-c5c0fd158351\",\"subtype\":\"Chart\",\"type\":\"Plot\"}},\"id\":\"c231f717-3931-4177-979d-b9be3f37eec4\",\"type\":\"BoxZoomTool\"},{\"attributes\":{\"callback\":null,\"column_names\":[\"line_color\",\"line_alpha\",\"color\",\"fill_alpha\",\"height\",\"width\",\"y\",\"x\",\"label\"],\"data\":{\"Word\":[\"read\"],\"chart_index\":[{\"Word\":\"read\"}],\"color\":[\"#f22c40\"],\"fill_alpha\":[0.8],\"height\":[2680859.0],\"label\":[{\"Word\":\"read\"}],\"line_alpha\":[1.0],\"line_color\":[\"white\"],\"width\":[0.8],\"x\":[\"read\"],\"y\":[1340429.5]}},\"id\":\"7428761f-713b-4fd2-ad62-15d892d91101\",\"type\":\"ColumnDataSource\"},{\"attributes\":{\"plot\":{\"id\":\"4ce75b3a-8aa9-4768-96d9-c5c0fd158351\",\"subtype\":\"Chart\",\"type\":\"Plot\"}},\"id\":\"1ef5cc44-0179-4c30-b04b-82195e74ff22\",\"type\":\"WheelZoomTool\"},{\"attributes\":{\"active_drag\":\"auto\",\"active_scroll\":\"auto\",\"active_tap\":\"auto\",\"tools\":[{\"id\":\"733f10b5-70ef-4291-9bfe-d861cb12774d\",\"type\":\"PanTool\"},{\"id\":\"1ef5cc44-0179-4c30-b04b-82195e74ff22\",\"type\":\"WheelZoomTool\"},{\"id\":\"c231f717-3931-4177-979d-b9be3f37eec4\",\"type\":\"BoxZoomTool\"},{\"id\":\"f4f62802-9fb3-4af1-bada-43c177cdbc79\",\"type\":\"SaveTool\"},{\"id\":\"96d5e67b-31e2-4914-ae44-22a78a1bc32e\",\"type\":\"ResetTool\"},{\"id\":\"f2b759b8-abe4-4ecb-a258-f325bcd8067b\",\"type\":\"HelpTool\"}]},\"id\":\"54e43476-9011-4648-a85b-66f44233026b\",\"type\":\"Toolbar\"},{\"attributes\":{\"callback\":null,\"column_names\":[\"line_color\",\"line_alpha\",\"color\",\"fill_alpha\",\"height\",\"width\",\"y\",\"x\",\"label\"],\"data\":{\"Word\":[\"love\"],\"chart_index\":[{\"Word\":\"love\"}],\"color\":[\"#f22c40\"],\"fill_alpha\":[0.8],\"height\":[1718584.0],\"label\":[{\"Word\":\"love\"}],\"line_alpha\":[1.0],\"line_color\":[\"white\"],\"width\":[0.8],\"x\":[\"love\"],\"y\":[859292.0]}},\"id\":\"b71b3a82-402e-476e-93f2-5c56667f9e81\",\"type\":\"ColumnDataSource\"},{\"attributes\":{\"below\":[{\"id\":\"7b89cb68-7a22-4931-a104-1657f583415a\",\"type\":\"CategoricalAxis\"}],\"left\":[{\"id\":\"168160ad-57a7-4448-8de4-b7f208b23ae5\",\"type\":\"LinearAxis\"}],\"renderers\":[{\"id\":\"65c79461-b92d-49fe-9507-3d131b710b3d\",\"type\":\"BoxAnnotation\"},{\"id\":\"4c0201d5-2793-4cb9-af0b-314cb6c6661d\",\"type\":\"GlyphRenderer\"},{\"id\":\"0b903be2-a6ff-451e-8a08-35c20a21e091\",\"type\":\"GlyphRenderer\"},{\"id\":\"11c513ec-c043-4614-a690-65d0563e098e\",\"type\":\"GlyphRenderer\"},{\"id\":\"1173aa53-f451-4864-8cce-ce1003305979\",\"type\":\"GlyphRenderer\"},{\"id\":\"fa8922aa-fe4a-47f0-b20b-2478ce2d40bf\",\"type\":\"GlyphRenderer\"},{\"id\":\"6b1b20ba-4755-4caa-8093-c4407299e761\",\"type\":\"GlyphRenderer\"},{\"id\":\"15287930-dfd6-4d31-abaa-85b02b1800f7\",\"type\":\"GlyphRenderer\"},{\"id\":\"4353ea27-082e-49e2-aa56-a96bb9d9a971\",\"type\":\"GlyphRenderer\"},{\"id\":\"8bc5a307-9863-43c1-bb07-2e769e3c7af9\",\"type\":\"GlyphRenderer\"},{\"id\":\"9bce5f1d-d401-46e9-893a-d0a491218267\",\"type\":\"GlyphRenderer\"},{\"id\":\"e6b4a39a-26fd-4a0e-973c-e095937121e0\",\"type\":\"Legend\"},{\"id\":\"7b89cb68-7a22-4931-a104-1657f583415a\",\"type\":\"CategoricalAxis\"},{\"id\":\"168160ad-57a7-4448-8de4-b7f208b23ae5\",\"type\":\"LinearAxis\"},{\"id\":\"8b2436bb-eae3-4303-b195-a9e6886ca202\",\"type\":\"Grid\"}],\"title\":{\"id\":\"43048355-f052-4b27-aa22-70a9132cd4ef\",\"type\":\"Title\"},\"tool_events\":{\"id\":\"597da506-490f-41cd-ac83-af942cd93ca5\",\"type\":\"ToolEvents\"},\"toolbar\":{\"id\":\"54e43476-9011-4648-a85b-66f44233026b\",\"type\":\"Toolbar\"},\"x_mapper_type\":\"auto\",\"x_range\":{\"id\":\"dcb51964-4629-452c-9eaa-7478fa465645\",\"type\":\"FactorRange\"},\"y_mapper_type\":\"auto\",\"y_range\":{\"id\":\"eace5e7a-eb09-4b94-bf7c-a27cafba551a\",\"type\":\"Range1d\"}},\"id\":\"4ce75b3a-8aa9-4768-96d9-c5c0fd158351\",\"subtype\":\"Chart\",\"type\":\"Plot\"},{\"attributes\":{\"data_source\":{\"id\":\"5535893d-1cbf-4551-b83b-6629d43e3e51\",\"type\":\"ColumnDataSource\"},\"glyph\":{\"id\":\"6ec35de2-4a57-473f-a09b-65750178e19e\",\"type\":\"Rect\"},\"hover_glyph\":null,\"nonselection_glyph\":null,\"selection_glyph\":null},\"id\":\"8bc5a307-9863-43c1-bb07-2e769e3c7af9\",\"type\":\"GlyphRenderer\"},{\"attributes\":{\"callback\":null,\"column_names\":[\"line_color\",\"line_alpha\",\"color\",\"fill_alpha\",\"height\",\"width\",\"y\",\"x\",\"label\"],\"data\":{\"Word\":[\"great\"],\"chart_index\":[{\"Word\":\"great\"}],\"color\":[\"#f22c40\"],\"fill_alpha\":[0.8],\"height\":[1462174.0],\"label\":[{\"Word\":\"great\"}],\"line_alpha\":[1.0],\"line_color\":[\"white\"],\"width\":[0.8],\"x\":[\"great\"],\"y\":[731087.0]}},\"id\":\"61e1eba5-09cb-4422-8bae-f89ea3e5852e\",\"type\":\"ColumnDataSource\"},{\"attributes\":{\"fill_alpha\":{\"field\":\"fill_alpha\"},\"fill_color\":{\"field\":\"color\"},\"height\":{\"field\":\"height\",\"units\":\"data\"},\"line_color\":{\"field\":\"line_color\"},\"width\":{\"field\":\"width\",\"units\":\"data\"},\"x\":{\"field\":\"x\"},\"y\":{\"field\":\"y\"}},\"id\":\"df5bd3e7-1c5f-4887-ab3b-517b48486ba7\",\"type\":\"Rect\"},{\"attributes\":{\"data_source\":{\"id\":\"f9400cab-26c2-47fe-b70b-e95a91379a9a\",\"type\":\"ColumnDataSource\"},\"glyph\":{\"id\":\"634b1752-493f-47d0-b68a-4651a946c139\",\"type\":\"Rect\"},\"hover_glyph\":null,\"nonselection_glyph\":null,\"selection_glyph\":null},\"id\":\"6b1b20ba-4755-4caa-8093-c4407299e761\",\"type\":\"GlyphRenderer\"},{\"attributes\":{\"callback\":null,\"factors\":[\"book\",\"read\",\"story\",\"love\",\"just\",\"like\",\"great\",\"really\",\"good\",\"books\"]},\"id\":\"dcb51964-4629-452c-9eaa-7478fa465645\",\"type\":\"FactorRange\"},{\"attributes\":{\"dimension\":1,\"plot\":{\"id\":\"4ce75b3a-8aa9-4768-96d9-c5c0fd158351\",\"subtype\":\"Chart\",\"type\":\"Plot\"},\"ticker\":{\"id\":\"1ae0f1fd-3de2-4736-90d6-57ac8ebd7acc\",\"type\":\"BasicTicker\"}},\"id\":\"8b2436bb-eae3-4303-b195-a9e6886ca202\",\"type\":\"Grid\"},{\"attributes\":{\"data_source\":{\"id\":\"c1567979-4686-463c-b211-0880f382612b\",\"type\":\"ColumnDataSource\"},\"glyph\":{\"id\":\"4a8139c8-cdb3-4afa-b583-6b891d9fb839\",\"type\":\"Rect\"},\"hover_glyph\":null,\"nonselection_glyph\":null,\"selection_glyph\":null},\"id\":\"fa8922aa-fe4a-47f0-b20b-2478ce2d40bf\",\"type\":\"GlyphRenderer\"},{\"attributes\":{\"fill_alpha\":{\"field\":\"fill_alpha\"},\"fill_color\":{\"field\":\"color\"},\"height\":{\"field\":\"height\",\"units\":\"data\"},\"line_color\":{\"field\":\"line_color\"},\"width\":{\"field\":\"width\",\"units\":\"data\"},\"x\":{\"field\":\"x\"},\"y\":{\"field\":\"y\"}},\"id\":\"4a8139c8-cdb3-4afa-b583-6b891d9fb839\",\"type\":\"Rect\"},{\"attributes\":{\"data_source\":{\"id\":\"b71b3a82-402e-476e-93f2-5c56667f9e81\",\"type\":\"ColumnDataSource\"},\"glyph\":{\"id\":\"4d6ea78a-e3e2-4ee2-852a-f2598b159ea0\",\"type\":\"Rect\"},\"hover_glyph\":null,\"nonselection_glyph\":null,\"selection_glyph\":null},\"id\":\"1173aa53-f451-4864-8cce-ce1003305979\",\"type\":\"GlyphRenderer\"},{\"attributes\":{\"plot\":{\"id\":\"4ce75b3a-8aa9-4768-96d9-c5c0fd158351\",\"subtype\":\"Chart\",\"type\":\"Plot\"}},\"id\":\"f4f62802-9fb3-4af1-bada-43c177cdbc79\",\"type\":\"SaveTool\"}],\"root_ids\":[\"4ce75b3a-8aa9-4768-96d9-c5c0fd158351\"]},\"title\":\"Bokeh Application\",\"version\":\"0.12.0\"}};\n",
       "            var render_items = [{\"docid\":\"97524f36-0a16-4b3c-8917-188f9e64745b\",\"elementid\":\"9cf3550a-a4a3-495e-9515-500f503ebff1\",\"modelid\":\"4ce75b3a-8aa9-4768-96d9-c5c0fd158351\",\"notebook_comms_target\":\"6ffbfc62-885f-4dad-8a6b-84e8c061f0ee\"}];\n",
       "            \n",
       "            Bokeh.embed.embed_items(docs_json, render_items);\n",
       "        });\n",
       "      },\n",
       "      function(Bokeh) {\n",
       "      }\n",
       "    ];\n",
       "  \n",
       "    function run_inline_js() {\n",
       "      for (var i = 0; i < inline_js.length; i++) {\n",
       "        inline_js[i](window.Bokeh);\n",
       "      }\n",
       "    }\n",
       "  \n",
       "    if (window._bokeh_is_loading === 0) {\n",
       "      console.log(\"Bokeh: BokehJS loaded, going straight to plotting\");\n",
       "      run_inline_js();\n",
       "    } else {\n",
       "      load_libs(js_urls, function() {\n",
       "        console.log(\"Bokeh: BokehJS plotting callback run at\", now());\n",
       "        run_inline_js();\n",
       "      });\n",
       "    }\n",
       "  }(this));\n",
       "</script>"
      ]
     },
     "metadata": {},
     "output_type": "display_data"
    },
    {
     "data": {
      "text/html": [
       "<p><code>&lt;Bokeh Notebook handle for <strong>In[17]</strong>&gt;</code></p>"
      ],
      "text/plain": [
       "<bokeh.io._CommsHandle at 0x7f907c66e390>"
      ]
     },
     "execution_count": 17,
     "metadata": {},
     "output_type": "execute_result"
    }
   ],
   "source": [
    "from operator import add\n",
    "import pandas as pd\n",
    "\n",
    "rdd = removed_reviews.filter('label = 1.0').select('filtered').rdd\n",
    "top_10_positive_words = (rdd\n",
    " .flatMap(lambda review: review.filtered)\n",
    " .filter(lambda word: word != '')\n",
    " .map(lambda word: (word, 1))\n",
    " .reduceByKey(add)\n",
    " .map(lambda (word, count): (count, word))\n",
    " .sortByKey(ascending=False)\n",
    " .take(10))\n",
    "\n",
    "df = pd.DataFrame(top_10_positive_words, columns=['Count', 'Word'])\n",
    "p = Bar(df, label=cat(columns='Word', sort=False), values='Count',\n",
    "        title='Top 10 words in positive reviews',\n",
    "        legend='top_right')\n",
    "show(p)"
   ]
  },
  {
   "cell_type": "code",
   "execution_count": 53,
   "metadata": {
    "collapsed": false
   },
   "outputs": [
    {
     "data": {
      "text/html": [
       "\n",
       "\n",
       "    <div class=\"bk-root\">\n",
       "        <div class=\"plotdiv\" id=\"37d82bf0-bf51-4f36-ab86-bb0e72551455\"></div>\n",
       "    </div>\n",
       "<script type=\"text/javascript\">\n",
       "  \n",
       "  (function(global) {\n",
       "    function now() {\n",
       "      return new Date();\n",
       "    }\n",
       "  \n",
       "    if (typeof (window._bokeh_onload_callbacks) === \"undefined\") {\n",
       "      window._bokeh_onload_callbacks = [];\n",
       "    }\n",
       "  \n",
       "    function run_callbacks() {\n",
       "      window._bokeh_onload_callbacks.forEach(function(callback) { callback() });\n",
       "      delete window._bokeh_onload_callbacks\n",
       "      console.info(\"Bokeh: all callbacks have finished\");\n",
       "    }\n",
       "  \n",
       "    function load_libs(js_urls, callback) {\n",
       "      window._bokeh_onload_callbacks.push(callback);\n",
       "      if (window._bokeh_is_loading > 0) {\n",
       "        console.log(\"Bokeh: BokehJS is being loaded, scheduling callback at\", now());\n",
       "        return null;\n",
       "      }\n",
       "      if (js_urls == null || js_urls.length === 0) {\n",
       "        run_callbacks();\n",
       "        return null;\n",
       "      }\n",
       "      console.log(\"Bokeh: BokehJS not loaded, scheduling load and callback at\", now());\n",
       "      window._bokeh_is_loading = js_urls.length;\n",
       "      for (var i = 0; i < js_urls.length; i++) {\n",
       "        var url = js_urls[i];\n",
       "        var s = document.createElement('script');\n",
       "        s.src = url;\n",
       "        s.async = false;\n",
       "        s.onreadystatechange = s.onload = function() {\n",
       "          window._bokeh_is_loading--;\n",
       "          if (window._bokeh_is_loading === 0) {\n",
       "            console.log(\"Bokeh: all BokehJS libraries loaded\");\n",
       "            run_callbacks()\n",
       "          }\n",
       "        };\n",
       "        s.onerror = function() {\n",
       "          console.warn(\"failed to load library \" + url);\n",
       "        };\n",
       "        console.log(\"Bokeh: injecting script tag for BokehJS library: \", url);\n",
       "        document.getElementsByTagName(\"head\")[0].appendChild(s);\n",
       "      }\n",
       "    };var element = document.getElementById(\"37d82bf0-bf51-4f36-ab86-bb0e72551455\");\n",
       "    if (element == null) {\n",
       "      console.log(\"Bokeh: ERROR: autoload.js configured with elementid '37d82bf0-bf51-4f36-ab86-bb0e72551455' but no matching script tag was found. \")\n",
       "      return false;\n",
       "    }\n",
       "  \n",
       "    var js_urls = [];\n",
       "  \n",
       "    var inline_js = [\n",
       "      function(Bokeh) {\n",
       "        Bokeh.$(function() {\n",
       "            var docs_json = {\"522aab85-c205-49d7-adfd-6bd49de8b260\":{\"roots\":{\"references\":[{\"attributes\":{\"data_source\":{\"id\":\"e2150222-25f1-470c-893d-ba2856801980\",\"type\":\"ColumnDataSource\"},\"glyph\":{\"id\":\"a156b2b5-e0aa-4242-92c8-990357db6c9a\",\"type\":\"Rect\"},\"hover_glyph\":null,\"nonselection_glyph\":null,\"selection_glyph\":null},\"id\":\"61fe6242-08fe-4391-be8c-f4df4253b8a5\",\"type\":\"GlyphRenderer\"},{\"attributes\":{},\"id\":\"b4e67659-b4a2-4d6f-99d5-e9215276cf0c\",\"type\":\"CategoricalTickFormatter\"},{\"attributes\":{\"plot\":{\"id\":\"22d20d3b-2607-45fe-9027-1c99d86dcbaa\",\"subtype\":\"Chart\",\"type\":\"Plot\"}},\"id\":\"99f0a246-e29b-41be-8b24-ba2eefaa5ebd\",\"type\":\"PanTool\"},{\"attributes\":{\"callback\":null,\"column_names\":[\"line_color\",\"line_alpha\",\"color\",\"fill_alpha\",\"height\",\"width\",\"y\",\"x\",\"label\"],\"data\":{\"Word\":[\"book\"],\"chart_index\":[{\"Word\":\"book\"}],\"color\":[\"#f22c40\"],\"fill_alpha\":[0.8],\"height\":[431093.0],\"label\":[{\"Word\":\"book\"}],\"line_alpha\":[1.0],\"line_color\":[\"white\"],\"width\":[0.8],\"x\":[\"book\"],\"y\":[215546.5]}},\"id\":\"f503765f-c52e-488d-bc50-50a8bec01819\",\"type\":\"ColumnDataSource\"},{\"attributes\":{\"fill_alpha\":{\"field\":\"fill_alpha\"},\"fill_color\":{\"field\":\"color\"},\"height\":{\"field\":\"height\",\"units\":\"data\"},\"line_color\":{\"field\":\"line_color\"},\"width\":{\"field\":\"width\",\"units\":\"data\"},\"x\":{\"field\":\"x\"},\"y\":{\"field\":\"y\"}},\"id\":\"7e19e0f2-dd01-4eb1-b06a-59c7d0c7cc37\",\"type\":\"Rect\"},{\"attributes\":{},\"id\":\"89d01e1e-0151-459f-b1d2-0ddef1b2b4c1\",\"type\":\"BasicTicker\"},{\"attributes\":{\"callback\":null,\"column_names\":[\"line_color\",\"line_alpha\",\"color\",\"fill_alpha\",\"height\",\"width\",\"y\",\"x\",\"label\"],\"data\":{\"Word\":[\"read\"],\"chart_index\":[{\"Word\":\"read\"}],\"color\":[\"#f22c40\"],\"fill_alpha\":[0.8],\"height\":[165611.0],\"label\":[{\"Word\":\"read\"}],\"line_alpha\":[1.0],\"line_color\":[\"white\"],\"width\":[0.8],\"x\":[\"read\"],\"y\":[82805.5]}},\"id\":\"0a4b7233-62ca-4e29-904a-2d5a3f7a7693\",\"type\":\"ColumnDataSource\"},{\"attributes\":{\"callback\":null,\"column_names\":[\"line_color\",\"line_alpha\",\"color\",\"fill_alpha\",\"height\",\"width\",\"y\",\"x\",\"label\"],\"data\":{\"Word\":[\"book.\"],\"chart_index\":[{\"Word\":\"book.\"}],\"color\":[\"#f22c40\"],\"fill_alpha\":[0.8],\"height\":[89623.0],\"label\":[{\"Word\":\"book.\"}],\"line_alpha\":[1.0],\"line_color\":[\"white\"],\"width\":[0.8],\"x\":[\"book.\"],\"y\":[44811.5]}},\"id\":\"b0e88c12-a6b2-468a-b906-3b30ef851811\",\"type\":\"ColumnDataSource\"},{\"attributes\":{\"active_drag\":\"auto\",\"active_scroll\":\"auto\",\"active_tap\":\"auto\",\"tools\":[{\"id\":\"99f0a246-e29b-41be-8b24-ba2eefaa5ebd\",\"type\":\"PanTool\"},{\"id\":\"33adb42a-f263-4766-9105-8b31689ea2b7\",\"type\":\"WheelZoomTool\"},{\"id\":\"f0be4371-c01a-4070-a792-62c6b867b37d\",\"type\":\"BoxZoomTool\"},{\"id\":\"60fe8db5-e55d-44f2-b11a-837343bab71e\",\"type\":\"SaveTool\"},{\"id\":\"09be8464-7107-4be3-9583-a311dded4d08\",\"type\":\"ResetTool\"},{\"id\":\"63ef749b-c7e3-4f4b-8e4e-0a9cc6e214c3\",\"type\":\"HelpTool\"}]},\"id\":\"ca86d427-89f8-48c3-9c4f-55a78c288b7f\",\"type\":\"Toolbar\"},{\"attributes\":{\"callback\":null,\"end\":452647.65},\"id\":\"7b18db06-30c1-42e6-8ca8-79d01ce8fd69\",\"type\":\"Range1d\"},{\"attributes\":{\"fill_alpha\":{\"field\":\"fill_alpha\"},\"fill_color\":{\"field\":\"color\"},\"height\":{\"field\":\"height\",\"units\":\"data\"},\"line_color\":{\"field\":\"line_color\"},\"width\":{\"field\":\"width\",\"units\":\"data\"},\"x\":{\"field\":\"x\"},\"y\":{\"field\":\"y\"}},\"id\":\"d18ce289-27ba-42ff-aba7-c6750a532872\",\"type\":\"Rect\"},{\"attributes\":{\"callback\":null,\"column_names\":[\"line_color\",\"line_alpha\",\"color\",\"fill_alpha\",\"height\",\"width\",\"y\",\"x\",\"label\"],\"data\":{\"Word\":[\"really\"],\"chart_index\":[{\"Word\":\"really\"}],\"color\":[\"#f22c40\"],\"fill_alpha\":[0.8],\"height\":[88801.0],\"label\":[{\"Word\":\"really\"}],\"line_alpha\":[1.0],\"line_color\":[\"white\"],\"width\":[0.8],\"x\":[\"really\"],\"y\":[44400.5]}},\"id\":\"37e173ba-298a-420f-a690-8893e20fc5a1\",\"type\":\"ColumnDataSource\"},{\"attributes\":{\"overlay\":{\"id\":\"dec00206-ebf1-4f73-a743-8f9009cc36d4\",\"type\":\"BoxAnnotation\"},\"plot\":{\"id\":\"22d20d3b-2607-45fe-9027-1c99d86dcbaa\",\"subtype\":\"Chart\",\"type\":\"Plot\"}},\"id\":\"f0be4371-c01a-4070-a792-62c6b867b37d\",\"type\":\"BoxZoomTool\"},{\"attributes\":{\"fill_alpha\":{\"field\":\"fill_alpha\"},\"fill_color\":{\"field\":\"color\"},\"height\":{\"field\":\"height\",\"units\":\"data\"},\"line_color\":{\"field\":\"line_color\"},\"width\":{\"field\":\"width\",\"units\":\"data\"},\"x\":{\"field\":\"x\"},\"y\":{\"field\":\"y\"}},\"id\":\"8a214ff1-00d0-4f06-80c1-aa0db8cc9e26\",\"type\":\"Rect\"},{\"attributes\":{\"fill_alpha\":{\"field\":\"fill_alpha\"},\"fill_color\":{\"field\":\"color\"},\"height\":{\"field\":\"height\",\"units\":\"data\"},\"line_color\":{\"field\":\"line_color\"},\"width\":{\"field\":\"width\",\"units\":\"data\"},\"x\":{\"field\":\"x\"},\"y\":{\"field\":\"y\"}},\"id\":\"a156b2b5-e0aa-4242-92c8-990357db6c9a\",\"type\":\"Rect\"},{\"attributes\":{\"data_source\":{\"id\":\"2877c29d-ac11-4568-861d-c91723ab0851\",\"type\":\"ColumnDataSource\"},\"glyph\":{\"id\":\"7e19e0f2-dd01-4eb1-b06a-59c7d0c7cc37\",\"type\":\"Rect\"},\"hover_glyph\":null,\"nonselection_glyph\":null,\"selection_glyph\":null},\"id\":\"1b10b506-1c35-45b9-8179-c6fbdf0c86dd\",\"type\":\"GlyphRenderer\"},{\"attributes\":{\"data_source\":{\"id\":\"b0e88c12-a6b2-468a-b906-3b30ef851811\",\"type\":\"ColumnDataSource\"},\"glyph\":{\"id\":\"a82584a6-8527-4d32-9d00-4948639ffacc\",\"type\":\"Rect\"},\"hover_glyph\":null,\"nonselection_glyph\":null,\"selection_glyph\":null},\"id\":\"55e28107-a863-44f8-8e36-33be2e362823\",\"type\":\"GlyphRenderer\"},{\"attributes\":{\"fill_alpha\":{\"field\":\"fill_alpha\"},\"fill_color\":{\"field\":\"color\"},\"height\":{\"field\":\"height\",\"units\":\"data\"},\"line_color\":{\"field\":\"line_color\"},\"width\":{\"field\":\"width\",\"units\":\"data\"},\"x\":{\"field\":\"x\"},\"y\":{\"field\":\"y\"}},\"id\":\"c44360c4-5f7e-40cc-a405-4ad73556b104\",\"type\":\"Rect\"},{\"attributes\":{\"data_source\":{\"id\":\"37e173ba-298a-420f-a690-8893e20fc5a1\",\"type\":\"ColumnDataSource\"},\"glyph\":{\"id\":\"c89396aa-3483-4b87-90d1-b6736901aae7\",\"type\":\"Rect\"},\"hover_glyph\":null,\"nonselection_glyph\":null,\"selection_glyph\":null},\"id\":\"b77ff096-5cea-41ba-ba62-c9119b721508\",\"type\":\"GlyphRenderer\"},{\"attributes\":{\"callback\":null,\"column_names\":[\"line_color\",\"line_alpha\",\"color\",\"fill_alpha\",\"height\",\"width\",\"y\",\"x\",\"label\"],\"data\":{\"Word\":[\"don't\"],\"chart_index\":[{\"Word\":\"don't\"}],\"color\":[\"#f22c40\"],\"fill_alpha\":[0.8],\"height\":[96117.0],\"label\":[{\"Word\":\"don't\"}],\"line_alpha\":[1.0],\"line_color\":[\"white\"],\"width\":[0.8],\"x\":[\"don't\"],\"y\":[48058.5]}},\"id\":\"e2150222-25f1-470c-893d-ba2856801980\",\"type\":\"ColumnDataSource\"},{\"attributes\":{\"data_source\":{\"id\":\"f503765f-c52e-488d-bc50-50a8bec01819\",\"type\":\"ColumnDataSource\"},\"glyph\":{\"id\":\"47c3783a-264f-4b0d-8ce6-92b0927f8105\",\"type\":\"Rect\"},\"hover_glyph\":null,\"nonselection_glyph\":null,\"selection_glyph\":null},\"id\":\"151ebf3f-49b3-4c8a-a10b-3ef9d7e08be6\",\"type\":\"GlyphRenderer\"},{\"attributes\":{\"data_source\":{\"id\":\"be6031df-98cf-4619-b43e-00bb575ca95b\",\"type\":\"ColumnDataSource\"},\"glyph\":{\"id\":\"d18ce289-27ba-42ff-aba7-c6750a532872\",\"type\":\"Rect\"},\"hover_glyph\":null,\"nonselection_glyph\":null,\"selection_glyph\":null},\"id\":\"81bb4068-61f0-4df3-9fc8-edb85acc78a9\",\"type\":\"GlyphRenderer\"},{\"attributes\":{\"data_source\":{\"id\":\"58759d44-c89d-4ae4-9f72-44d05938cf15\",\"type\":\"ColumnDataSource\"},\"glyph\":{\"id\":\"c44360c4-5f7e-40cc-a405-4ad73556b104\",\"type\":\"Rect\"},\"hover_glyph\":null,\"nonselection_glyph\":null,\"selection_glyph\":null},\"id\":\"bf1c4c5c-bb42-4429-b135-f37cffca58a8\",\"type\":\"GlyphRenderer\"},{\"attributes\":{\"plot\":null,\"text\":\"Top 10 words in negative reviews\"},\"id\":\"c5eaebee-d6d6-4139-ae02-573ffb81f69c\",\"type\":\"Title\"},{\"attributes\":{\"fill_alpha\":{\"field\":\"fill_alpha\"},\"fill_color\":{\"field\":\"color\"},\"height\":{\"field\":\"height\",\"units\":\"data\"},\"line_color\":{\"field\":\"line_color\"},\"width\":{\"field\":\"width\",\"units\":\"data\"},\"x\":{\"field\":\"x\"},\"y\":{\"field\":\"y\"}},\"id\":\"47c3783a-264f-4b0d-8ce6-92b0927f8105\",\"type\":\"Rect\"},{\"attributes\":{\"callback\":null,\"column_names\":[\"line_color\",\"line_alpha\",\"color\",\"fill_alpha\",\"height\",\"width\",\"y\",\"x\",\"label\"],\"data\":{\"Word\":[\"it's\"],\"chart_index\":[{\"Word\":\"it's\"}],\"color\":[\"#f22c40\"],\"fill_alpha\":[0.8],\"height\":[84425.0],\"label\":[{\"Word\":\"it's\"}],\"line_alpha\":[1.0],\"line_color\":[\"white\"],\"width\":[0.8],\"x\":[\"it's\"],\"y\":[42212.5]}},\"id\":\"2877c29d-ac11-4568-861d-c91723ab0851\",\"type\":\"ColumnDataSource\"},{\"attributes\":{\"fill_alpha\":{\"field\":\"fill_alpha\"},\"fill_color\":{\"field\":\"color\"},\"height\":{\"field\":\"height\",\"units\":\"data\"},\"line_color\":{\"field\":\"line_color\"},\"width\":{\"field\":\"width\",\"units\":\"data\"},\"x\":{\"field\":\"x\"},\"y\":{\"field\":\"y\"}},\"id\":\"c89396aa-3483-4b87-90d1-b6736901aae7\",\"type\":\"Rect\"},{\"attributes\":{\"callback\":null,\"column_names\":[\"line_color\",\"line_alpha\",\"color\",\"fill_alpha\",\"height\",\"width\",\"y\",\"x\",\"label\"],\"data\":{\"Word\":[\"just\"],\"chart_index\":[{\"Word\":\"just\"}],\"color\":[\"#f22c40\"],\"fill_alpha\":[0.8],\"height\":[182211.0],\"label\":[{\"Word\":\"just\"}],\"line_alpha\":[1.0],\"line_color\":[\"white\"],\"width\":[0.8],\"x\":[\"just\"],\"y\":[91105.5]}},\"id\":\"58759d44-c89d-4ae4-9f72-44d05938cf15\",\"type\":\"ColumnDataSource\"},{\"attributes\":{\"axis_label\":\"Word\",\"formatter\":{\"id\":\"b4e67659-b4a2-4d6f-99d5-e9215276cf0c\",\"type\":\"CategoricalTickFormatter\"},\"major_label_orientation\":0.7853981633974483,\"plot\":{\"id\":\"22d20d3b-2607-45fe-9027-1c99d86dcbaa\",\"subtype\":\"Chart\",\"type\":\"Plot\"},\"ticker\":{\"id\":\"79f01aa8-1ca1-42d4-9240-36aeb5e5bd3d\",\"type\":\"CategoricalTicker\"}},\"id\":\"4d5f9da8-c9fc-4880-8f83-21bc44085e57\",\"type\":\"CategoricalAxis\"},{\"attributes\":{\"callback\":null,\"column_names\":[\"line_color\",\"line_alpha\",\"color\",\"fill_alpha\",\"height\",\"width\",\"y\",\"x\",\"label\"],\"data\":{\"Word\":[\"like\"],\"chart_index\":[{\"Word\":\"like\"}],\"color\":[\"#f22c40\"],\"fill_alpha\":[0.8],\"height\":[170804.0],\"label\":[{\"Word\":\"like\"}],\"line_alpha\":[1.0],\"line_color\":[\"white\"],\"width\":[0.8],\"x\":[\"like\"],\"y\":[85402.0]}},\"id\":\"05c3661d-6054-4f80-9401-0682e0378fca\",\"type\":\"ColumnDataSource\"},{\"attributes\":{\"bottom_units\":\"screen\",\"fill_alpha\":{\"value\":0.5},\"fill_color\":{\"value\":\"lightgrey\"},\"left_units\":\"screen\",\"level\":\"overlay\",\"line_alpha\":{\"value\":1.0},\"line_color\":{\"value\":\"black\"},\"line_dash\":[4,4],\"line_width\":{\"value\":2},\"plot\":null,\"render_mode\":\"css\",\"right_units\":\"screen\",\"top_units\":\"screen\"},\"id\":\"dec00206-ebf1-4f73-a743-8f9009cc36d4\",\"type\":\"BoxAnnotation\"},{\"attributes\":{\"data_source\":{\"id\":\"05c3661d-6054-4f80-9401-0682e0378fca\",\"type\":\"ColumnDataSource\"},\"glyph\":{\"id\":\"8a214ff1-00d0-4f06-80c1-aa0db8cc9e26\",\"type\":\"Rect\"},\"hover_glyph\":null,\"nonselection_glyph\":null,\"selection_glyph\":null},\"id\":\"bee57195-24c5-48f8-9ca7-964497e0bf6a\",\"type\":\"GlyphRenderer\"},{\"attributes\":{\"fill_alpha\":{\"field\":\"fill_alpha\"},\"fill_color\":{\"field\":\"color\"},\"height\":{\"field\":\"height\",\"units\":\"data\"},\"line_color\":{\"field\":\"line_color\"},\"width\":{\"field\":\"width\",\"units\":\"data\"},\"x\":{\"field\":\"x\"},\"y\":{\"field\":\"y\"}},\"id\":\"5e311fe7-b993-4271-8a9a-5a2c84da3356\",\"type\":\"Rect\"},{\"attributes\":{\"data_source\":{\"id\":\"0a4b7233-62ca-4e29-904a-2d5a3f7a7693\",\"type\":\"ColumnDataSource\"},\"glyph\":{\"id\":\"5e311fe7-b993-4271-8a9a-5a2c84da3356\",\"type\":\"Rect\"},\"hover_glyph\":null,\"nonselection_glyph\":null,\"selection_glyph\":null},\"id\":\"aa0a6d81-f369-4b45-a3a6-fce9b7d769c6\",\"type\":\"GlyphRenderer\"},{\"attributes\":{\"plot\":{\"id\":\"22d20d3b-2607-45fe-9027-1c99d86dcbaa\",\"subtype\":\"Chart\",\"type\":\"Plot\"}},\"id\":\"09be8464-7107-4be3-9583-a311dded4d08\",\"type\":\"ResetTool\"},{\"attributes\":{\"data_source\":{\"id\":\"1e7ba28a-b5d5-486e-a352-c0a810dc9fab\",\"type\":\"ColumnDataSource\"},\"glyph\":{\"id\":\"046ba54d-3360-4e3f-a84f-19037cf34838\",\"type\":\"Rect\"},\"hover_glyph\":null,\"nonselection_glyph\":null,\"selection_glyph\":null},\"id\":\"000be887-61d2-407d-952a-db9e032fdf5f\",\"type\":\"GlyphRenderer\"},{\"attributes\":{\"axis_label\":\"Sum( Count )\",\"formatter\":{\"id\":\"161b0a45-8f07-4636-ab2d-4fe49c81c74c\",\"type\":\"BasicTickFormatter\"},\"plot\":{\"id\":\"22d20d3b-2607-45fe-9027-1c99d86dcbaa\",\"subtype\":\"Chart\",\"type\":\"Plot\"},\"ticker\":{\"id\":\"89d01e1e-0151-459f-b1d2-0ddef1b2b4c1\",\"type\":\"BasicTicker\"}},\"id\":\"342ea8ba-c57f-4306-b870-35bc14e3833b\",\"type\":\"LinearAxis\"},{\"attributes\":{\"dimension\":1,\"plot\":{\"id\":\"22d20d3b-2607-45fe-9027-1c99d86dcbaa\",\"subtype\":\"Chart\",\"type\":\"Plot\"},\"ticker\":{\"id\":\"89d01e1e-0151-459f-b1d2-0ddef1b2b4c1\",\"type\":\"BasicTicker\"}},\"id\":\"c7333cbb-ba10-48a6-9d13-f12f54fdb062\",\"type\":\"Grid\"},{\"attributes\":{\"callback\":null,\"column_names\":[\"line_color\",\"line_alpha\",\"color\",\"fill_alpha\",\"height\",\"width\",\"y\",\"x\",\"label\"],\"data\":{\"Word\":[\"author\"],\"chart_index\":[{\"Word\":\"author\"}],\"color\":[\"#f22c40\"],\"fill_alpha\":[0.8],\"height\":[92366.0],\"label\":[{\"Word\":\"author\"}],\"line_alpha\":[1.0],\"line_color\":[\"white\"],\"width\":[0.8],\"x\":[\"author\"],\"y\":[46183.0]}},\"id\":\"1e7ba28a-b5d5-486e-a352-c0a810dc9fab\",\"type\":\"ColumnDataSource\"},{\"attributes\":{\"fill_alpha\":{\"field\":\"fill_alpha\"},\"fill_color\":{\"field\":\"color\"},\"height\":{\"field\":\"height\",\"units\":\"data\"},\"line_color\":{\"field\":\"line_color\"},\"width\":{\"field\":\"width\",\"units\":\"data\"},\"x\":{\"field\":\"x\"},\"y\":{\"field\":\"y\"}},\"id\":\"a82584a6-8527-4d32-9d00-4948639ffacc\",\"type\":\"Rect\"},{\"attributes\":{\"plot\":{\"id\":\"22d20d3b-2607-45fe-9027-1c99d86dcbaa\",\"subtype\":\"Chart\",\"type\":\"Plot\"}},\"id\":\"60fe8db5-e55d-44f2-b11a-837343bab71e\",\"type\":\"SaveTool\"},{\"attributes\":{},\"id\":\"79f01aa8-1ca1-42d4-9240-36aeb5e5bd3d\",\"type\":\"CategoricalTicker\"},{\"attributes\":{\"plot\":{\"id\":\"22d20d3b-2607-45fe-9027-1c99d86dcbaa\",\"subtype\":\"Chart\",\"type\":\"Plot\"}},\"id\":\"63ef749b-c7e3-4f4b-8e4e-0a9cc6e214c3\",\"type\":\"HelpTool\"},{\"attributes\":{\"callback\":null,\"column_names\":[\"line_color\",\"line_alpha\",\"color\",\"fill_alpha\",\"height\",\"width\",\"y\",\"x\",\"label\"],\"data\":{\"Word\":[\"story\"],\"chart_index\":[{\"Word\":\"story\"}],\"color\":[\"#f22c40\"],\"fill_alpha\":[0.8],\"height\":[92629.0],\"label\":[{\"Word\":\"story\"}],\"line_alpha\":[1.0],\"line_color\":[\"white\"],\"width\":[0.8],\"x\":[\"story\"],\"y\":[46314.5]}},\"id\":\"be6031df-98cf-4619-b43e-00bb575ca95b\",\"type\":\"ColumnDataSource\"},{\"attributes\":{\"plot\":{\"id\":\"22d20d3b-2607-45fe-9027-1c99d86dcbaa\",\"subtype\":\"Chart\",\"type\":\"Plot\"}},\"id\":\"33adb42a-f263-4766-9105-8b31689ea2b7\",\"type\":\"WheelZoomTool\"},{\"attributes\":{},\"id\":\"b76c8ad5-eb1a-44c6-b09d-e43c613567b5\",\"type\":\"ToolEvents\"},{\"attributes\":{\"below\":[{\"id\":\"4d5f9da8-c9fc-4880-8f83-21bc44085e57\",\"type\":\"CategoricalAxis\"}],\"left\":[{\"id\":\"342ea8ba-c57f-4306-b870-35bc14e3833b\",\"type\":\"LinearAxis\"}],\"renderers\":[{\"id\":\"dec00206-ebf1-4f73-a743-8f9009cc36d4\",\"type\":\"BoxAnnotation\"},{\"id\":\"151ebf3f-49b3-4c8a-a10b-3ef9d7e08be6\",\"type\":\"GlyphRenderer\"},{\"id\":\"bf1c4c5c-bb42-4429-b135-f37cffca58a8\",\"type\":\"GlyphRenderer\"},{\"id\":\"bee57195-24c5-48f8-9ca7-964497e0bf6a\",\"type\":\"GlyphRenderer\"},{\"id\":\"aa0a6d81-f369-4b45-a3a6-fce9b7d769c6\",\"type\":\"GlyphRenderer\"},{\"id\":\"61fe6242-08fe-4391-be8c-f4df4253b8a5\",\"type\":\"GlyphRenderer\"},{\"id\":\"81bb4068-61f0-4df3-9fc8-edb85acc78a9\",\"type\":\"GlyphRenderer\"},{\"id\":\"000be887-61d2-407d-952a-db9e032fdf5f\",\"type\":\"GlyphRenderer\"},{\"id\":\"55e28107-a863-44f8-8e36-33be2e362823\",\"type\":\"GlyphRenderer\"},{\"id\":\"b77ff096-5cea-41ba-ba62-c9119b721508\",\"type\":\"GlyphRenderer\"},{\"id\":\"1b10b506-1c35-45b9-8179-c6fbdf0c86dd\",\"type\":\"GlyphRenderer\"},{\"id\":\"07598f8c-5a12-43bf-ace7-140b49ab0ae6\",\"type\":\"Legend\"},{\"id\":\"4d5f9da8-c9fc-4880-8f83-21bc44085e57\",\"type\":\"CategoricalAxis\"},{\"id\":\"342ea8ba-c57f-4306-b870-35bc14e3833b\",\"type\":\"LinearAxis\"},{\"id\":\"c7333cbb-ba10-48a6-9d13-f12f54fdb062\",\"type\":\"Grid\"}],\"title\":{\"id\":\"c5eaebee-d6d6-4139-ae02-573ffb81f69c\",\"type\":\"Title\"},\"tool_events\":{\"id\":\"b76c8ad5-eb1a-44c6-b09d-e43c613567b5\",\"type\":\"ToolEvents\"},\"toolbar\":{\"id\":\"ca86d427-89f8-48c3-9c4f-55a78c288b7f\",\"type\":\"Toolbar\"},\"x_mapper_type\":\"auto\",\"x_range\":{\"id\":\"951cc0b9-efea-4a7b-8a66-e9717d450eb4\",\"type\":\"FactorRange\"},\"y_mapper_type\":\"auto\",\"y_range\":{\"id\":\"7b18db06-30c1-42e6-8ca8-79d01ce8fd69\",\"type\":\"Range1d\"}},\"id\":\"22d20d3b-2607-45fe-9027-1c99d86dcbaa\",\"subtype\":\"Chart\",\"type\":\"Plot\"},{\"attributes\":{\"fill_alpha\":{\"field\":\"fill_alpha\"},\"fill_color\":{\"field\":\"color\"},\"height\":{\"field\":\"height\",\"units\":\"data\"},\"line_color\":{\"field\":\"line_color\"},\"width\":{\"field\":\"width\",\"units\":\"data\"},\"x\":{\"field\":\"x\"},\"y\":{\"field\":\"y\"}},\"id\":\"046ba54d-3360-4e3f-a84f-19037cf34838\",\"type\":\"Rect\"},{\"attributes\":{\"callback\":null,\"factors\":[\"book\",\"just\",\"like\",\"read\",\"don't\",\"story\",\"author\",\"book.\",\"really\",\"it's\"]},\"id\":\"951cc0b9-efea-4a7b-8a66-e9717d450eb4\",\"type\":\"FactorRange\"},{\"attributes\":{\"legends\":[[\"book\",[{\"id\":\"151ebf3f-49b3-4c8a-a10b-3ef9d7e08be6\",\"type\":\"GlyphRenderer\"}]],[\"just\",[{\"id\":\"bf1c4c5c-bb42-4429-b135-f37cffca58a8\",\"type\":\"GlyphRenderer\"}]],[\"like\",[{\"id\":\"bee57195-24c5-48f8-9ca7-964497e0bf6a\",\"type\":\"GlyphRenderer\"}]],[\"read\",[{\"id\":\"aa0a6d81-f369-4b45-a3a6-fce9b7d769c6\",\"type\":\"GlyphRenderer\"}]],[\"don't\",[{\"id\":\"61fe6242-08fe-4391-be8c-f4df4253b8a5\",\"type\":\"GlyphRenderer\"}]],[\"story\",[{\"id\":\"81bb4068-61f0-4df3-9fc8-edb85acc78a9\",\"type\":\"GlyphRenderer\"}]],[\"author\",[{\"id\":\"000be887-61d2-407d-952a-db9e032fdf5f\",\"type\":\"GlyphRenderer\"}]],[\"book.\",[{\"id\":\"55e28107-a863-44f8-8e36-33be2e362823\",\"type\":\"GlyphRenderer\"}]],[\"really\",[{\"id\":\"b77ff096-5cea-41ba-ba62-c9119b721508\",\"type\":\"GlyphRenderer\"}]],[\"it's\",[{\"id\":\"1b10b506-1c35-45b9-8179-c6fbdf0c86dd\",\"type\":\"GlyphRenderer\"}]]],\"plot\":{\"id\":\"22d20d3b-2607-45fe-9027-1c99d86dcbaa\",\"subtype\":\"Chart\",\"type\":\"Plot\"}},\"id\":\"07598f8c-5a12-43bf-ace7-140b49ab0ae6\",\"type\":\"Legend\"},{\"attributes\":{},\"id\":\"161b0a45-8f07-4636-ab2d-4fe49c81c74c\",\"type\":\"BasicTickFormatter\"}],\"root_ids\":[\"22d20d3b-2607-45fe-9027-1c99d86dcbaa\"]},\"title\":\"Bokeh Application\",\"version\":\"0.12.0\"}};\n",
       "            var render_items = [{\"docid\":\"522aab85-c205-49d7-adfd-6bd49de8b260\",\"elementid\":\"37d82bf0-bf51-4f36-ab86-bb0e72551455\",\"modelid\":\"22d20d3b-2607-45fe-9027-1c99d86dcbaa\",\"notebook_comms_target\":\"4c7a6df4-4174-4ac1-a1be-1518410ddd8d\"}];\n",
       "            \n",
       "            Bokeh.embed.embed_items(docs_json, render_items);\n",
       "        });\n",
       "      },\n",
       "      function(Bokeh) {\n",
       "      }\n",
       "    ];\n",
       "  \n",
       "    function run_inline_js() {\n",
       "      for (var i = 0; i < inline_js.length; i++) {\n",
       "        inline_js[i](window.Bokeh);\n",
       "      }\n",
       "    }\n",
       "  \n",
       "    if (window._bokeh_is_loading === 0) {\n",
       "      console.log(\"Bokeh: BokehJS loaded, going straight to plotting\");\n",
       "      run_inline_js();\n",
       "    } else {\n",
       "      load_libs(js_urls, function() {\n",
       "        console.log(\"Bokeh: BokehJS plotting callback run at\", now());\n",
       "        run_inline_js();\n",
       "      });\n",
       "    }\n",
       "  }(this));\n",
       "</script>"
      ]
     },
     "metadata": {},
     "output_type": "display_data"
    },
    {
     "data": {
      "text/html": [
       "<p><code>&lt;Bokeh Notebook handle for <strong>In[53]</strong>&gt;</code></p>"
      ],
      "text/plain": [
       "<bokeh.io._CommsHandle at 0x7f7b8745f890>"
      ]
     },
     "execution_count": 53,
     "metadata": {},
     "output_type": "execute_result"
    }
   ],
   "source": [
    "from operator import add\n",
    "\n",
    "rdd = removed_reviews.filter('label = 0.0').select('filtered').rdd\n",
    "top_10_negative_words = (rdd\n",
    " .flatMap(lambda review: review.filtered)\n",
    " .filter(lambda word: word != '')\n",
    " .map(lambda word: (word, 1))\n",
    " .reduceByKey(add)\n",
    " .map(lambda (word, count): (count, word))\n",
    " .sortByKey(ascending=False)\n",
    " .take(10))\n",
    "\n",
    "df = pd.DataFrame(top_10_negative_words, columns=['Count', 'Word'])\n",
    "p = Bar(df, label=cat(columns='Word', sort=False), values='Count',\n",
    "        title='Top 10 words in negative reviews',\n",
    "        legend='top_right')\n",
    "show(p)"
   ]
  },
  {
   "cell_type": "code",
   "execution_count": null,
   "metadata": {
    "collapsed": true
   },
   "outputs": [],
   "source": []
  }
 ],
 "metadata": {
  "kernelspec": {
   "display_name": "Python [Root]",
   "language": "python",
   "name": "Python [Root]"
  },
  "language_info": {
   "codemirror_mode": {
    "name": "ipython",
    "version": 2
   },
   "file_extension": ".py",
   "mimetype": "text/x-python",
   "name": "python",
   "nbconvert_exporter": "python",
   "pygments_lexer": "ipython2",
   "version": "2.7.12"
  }
 },
 "nbformat": 4,
 "nbformat_minor": 0
}
