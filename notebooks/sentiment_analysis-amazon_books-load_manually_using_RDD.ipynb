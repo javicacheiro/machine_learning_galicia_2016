{
 "cells": [
  {
   "cell_type": "code",
   "execution_count": 35,
   "metadata": {
    "collapsed": true
   },
   "outputs": [],
   "source": [
    "from pyspark.ml import Pipeline\n",
    "from pyspark.ml.classification import LogisticRegression\n",
    "from pyspark.ml.feature import HashingTF, Tokenizer\n",
    "from pyspark.sql import Row\n",
    "from pyspark.ml.tuning import ParamGridBuilder, CrossValidator\n",
    "from pyspark.ml.evaluation import BinaryClassificationEvaluator\n",
    "from pyspark.ml.feature import StopWordsRemover\n",
    "from pyspark.ml.feature import Binarizer"
   ]
  },
  {
   "cell_type": "markdown",
   "metadata": {},
   "source": [
    "# Obtain Raw Data"
   ]
  },
  {
   "cell_type": "markdown",
   "metadata": {},
   "source": [
    "## Amazon product data\n",
    "We will use a [dataset](http://snap.stanford.edu/data/amazon/productGraph/categoryFiles/reviews_Books_5.json.gz)[1] that contains 8.9M book reviews from Amazon, spanning May 1996 - July 2014.\n",
    "\n",
    "The uncompressed file is around 9GB and when uploaded to HDFS the file is composed of 70 blocks with 3-replicas each.\n",
    "\n",
    "\n",
    "[1] Image-based recommendations on styles and substitutes\n",
    "J. McAuley, C. Targett, J. Shi, A. van den Hengel\n",
    "SIGIR, 2015\n",
    "http://jmcauley.ucsd.edu/data/amazon/\n",
    "\n",
    "## Load Data"
   ]
  },
  {
   "cell_type": "code",
   "execution_count": 5,
   "metadata": {
    "collapsed": false
   },
   "outputs": [
    {
     "name": "stdout",
     "output_type": "stream",
     "text": [
      "CPU times: user 4.37 ms, sys: 2.13 ms, total: 6.5 ms\n",
      "Wall time: 22.5 s\n"
     ]
    }
   ],
   "source": [
    "%%time\n",
    "rawreviews = sqlContext.read.json('data/amazon/reviews_Books_5.json')"
   ]
  },
  {
   "cell_type": "code",
   "execution_count": 6,
   "metadata": {
    "collapsed": false,
    "scrolled": true
   },
   "outputs": [
    {
     "name": "stdout",
     "output_type": "stream",
     "text": [
      "root\n",
      " |-- asin: string (nullable = true)\n",
      " |-- helpful: array (nullable = true)\n",
      " |    |-- element: long (containsNull = true)\n",
      " |-- overall: double (nullable = true)\n",
      " |-- reviewText: string (nullable = true)\n",
      " |-- reviewTime: string (nullable = true)\n",
      " |-- reviewerID: string (nullable = true)\n",
      " |-- reviewerName: string (nullable = true)\n",
      " |-- summary: string (nullable = true)\n",
      " |-- unixReviewTime: long (nullable = true)\n",
      "\n"
     ]
    }
   ],
   "source": [
    "rawreviews.printSchema()"
   ]
  },
  {
   "cell_type": "code",
   "execution_count": 12,
   "metadata": {
    "collapsed": false
   },
   "outputs": [
    {
     "data": {
      "text/plain": [
       "DataFrame[reviewText: string, overall: double]"
      ]
     },
     "execution_count": 12,
     "metadata": {},
     "output_type": "execute_result"
    }
   ],
   "source": [
    "allreviews = rawreviews.select('reviewText', 'overall')\n",
    "allreviews.cache()"
   ]
  },
  {
   "cell_type": "code",
   "execution_count": 14,
   "metadata": {
    "collapsed": false
   },
   "outputs": [
    {
     "name": "stdout",
     "output_type": "stream",
     "text": [
      "+--------------------+-------+\n",
      "|          reviewText|overall|\n",
      "+--------------------+-------+\n",
      "|Spiritually and m...|    5.0|\n",
      "|This is one my mu...|    5.0|\n",
      "+--------------------+-------+\n",
      "only showing top 2 rows\n",
      "\n"
     ]
    }
   ],
   "source": [
    "allreviews.show(2)"
   ]
  },
  {
   "cell_type": "code",
   "execution_count": null,
   "metadata": {
    "collapsed": true
   },
   "outputs": [],
   "source": [
    "allreviews.groupBy('overall').count().show()"
   ]
  },
  {
   "cell_type": "code",
   "execution_count": null,
   "metadata": {
    "collapsed": true
   },
   "outputs": [],
   "source": []
  },
  {
   "cell_type": "code",
   "execution_count": 1,
   "metadata": {
    "collapsed": true
   },
   "outputs": [],
   "source": [
    "lines = sc.textFile('data/amazon/reviews_Books_5.json')"
   ]
  },
  {
   "cell_type": "code",
   "execution_count": 10,
   "metadata": {
    "collapsed": false
   },
   "outputs": [
    {
     "data": {
      "text/plain": [
       "u'{\"reviewerID\": \"A10000012B7CGYKOMPQ4L\", \"asin\": \"000100039X\", \"reviewerName\": \"Adam\", \"helpful\": [0, 0], \"reviewText\": \"Spiritually and mentally inspiring! A book that allows you to question your morals and will help you discover who you really are!\", \"overall\": 5.0, \"summary\": \"Wonderful!\", \"unixReviewTime\": 1355616000, \"reviewTime\": \"12 16, 2012\"}'"
      ]
     },
     "execution_count": 10,
     "metadata": {},
     "output_type": "execute_result"
    }
   ],
   "source": [
    "print json.toollines.first()"
   ]
  },
  {
   "cell_type": "code",
   "execution_count": 100,
   "metadata": {
    "collapsed": false
   },
   "outputs": [],
   "source": [
    "import json\n",
    "Review = Row(\"text\", \"rating\")\n",
    "def extract_review_info(line):\n",
    "    data = json.loads(line)\n",
    "    return Review(data['reviewText'], data['overall'])"
   ]
  },
  {
   "cell_type": "code",
   "execution_count": 101,
   "metadata": {
    "collapsed": false
   },
   "outputs": [
    {
     "data": {
      "text/plain": [
       "DataFrame[text: string, rating: double]"
      ]
     },
     "execution_count": 101,
     "metadata": {},
     "output_type": "execute_result"
    }
   ],
   "source": [
    "allreviews = lines.map(extract_review_info).toDF()\n",
    "allreviews.cache()"
   ]
  },
  {
   "cell_type": "code",
   "execution_count": 103,
   "metadata": {
    "collapsed": false
   },
   "outputs": [
    {
     "name": "stdout",
     "output_type": "stream",
     "text": [
      "+------+-------+\n",
      "|rating|  count|\n",
      "+------+-------+\n",
      "|   1.0| 323833|\n",
      "|   3.0| 955189|\n",
      "|   5.0|4980815|\n",
      "|   4.0|2223094|\n",
      "|   2.0| 415110|\n",
      "+------+-------+\n",
      "\n"
     ]
    }
   ],
   "source": [
    "allreviews.groupBy('rating').count().show()"
   ]
  },
  {
   "cell_type": "code",
   "execution_count": 104,
   "metadata": {
    "collapsed": false
   },
   "outputs": [
    {
     "data": {
      "text/plain": [
       "1"
      ]
     },
     "execution_count": 104,
     "metadata": {},
     "output_type": "execute_result"
    }
   ],
   "source": [
    "allreviews.rdd.filter(lambda (text, rating): 'much of what has been thought and said about Dresden' in text).count()"
   ]
  },
  {
   "cell_type": "code",
   "execution_count": 105,
   "metadata": {
    "collapsed": false
   },
   "outputs": [
    {
     "data": {
      "text/plain": [
       "0"
      ]
     },
     "execution_count": 105,
     "metadata": {},
     "output_type": "execute_result"
    }
   ],
   "source": [
    "allreviews.rdd.filter(lambda (text, rating): text == '').count()"
   ]
  },
  {
   "cell_type": "code",
   "execution_count": 108,
   "metadata": {
    "collapsed": false
   },
   "outputs": [],
   "source": [
    "extremereviews = allreviews.filter((allreviews.rating == 1.0) | (allreviews.rating == 5.0)).filter(allreviews.text != '')"
   ]
  },
  {
   "cell_type": "markdown",
   "metadata": {},
   "source": [
    "## Binarizer\n",
    "A transformer to convert numerical features to binary (0/1) features"
   ]
  },
  {
   "cell_type": "code",
   "execution_count": 109,
   "metadata": {
    "collapsed": false
   },
   "outputs": [
    {
     "data": {
      "text/plain": [
       "DataFrame[text: string, rating: double]"
      ]
     },
     "execution_count": 109,
     "metadata": {},
     "output_type": "execute_result"
    }
   ],
   "source": [
    "from pyspark.ml.feature import Binarizer\n",
    "\n",
    "binarizer = Binarizer(threshold=2.5, inputCol='rating', outputCol='label')\n",
    "reviews = binarizer.transform(extremereviews)\n",
    "reviews.cache()\n",
    "allreviews.unpersist()"
   ]
  },
  {
   "cell_type": "code",
   "execution_count": 110,
   "metadata": {
    "collapsed": false,
    "scrolled": true
   },
   "outputs": [
    {
     "data": {
      "text/plain": [
       "5304187"
      ]
     },
     "execution_count": 110,
     "metadata": {},
     "output_type": "execute_result"
    }
   ],
   "source": [
    "reviews.count()"
   ]
  },
  {
   "cell_type": "code",
   "execution_count": 111,
   "metadata": {
    "collapsed": false
   },
   "outputs": [
    {
     "name": "stdout",
     "output_type": "stream",
     "text": [
      "+--------------------+------+-----+\n",
      "|                text|rating|label|\n",
      "+--------------------+------+-----+\n",
      "|Spiritually and m...|   5.0|  1.0|\n",
      "|This is one my mu...|   5.0|  1.0|\n",
      "+--------------------+------+-----+\n",
      "only showing top 2 rows\n",
      "\n"
     ]
    }
   ],
   "source": [
    "reviews.show(2)"
   ]
  },
  {
   "cell_type": "markdown",
   "metadata": {},
   "source": [
    "# Split Data"
   ]
  },
  {
   "cell_type": "code",
   "execution_count": 112,
   "metadata": {
    "collapsed": true
   },
   "outputs": [],
   "source": [
    "trainingData, testData = reviews.randomSplit([0.8, 0.2])"
   ]
  },
  {
   "cell_type": "markdown",
   "metadata": {},
   "source": [
    "# Pipeline\n",
    "![pipeline](http://spark.apache.org/docs/latest/img/ml-Pipeline.png)"
   ]
  },
  {
   "cell_type": "markdown",
   "metadata": {},
   "source": [
    "## Tokenizer\n",
    "A transformer that converts the input string to lowercase and then splits it by white spaces."
   ]
  },
  {
   "cell_type": "code",
   "execution_count": 113,
   "metadata": {
    "collapsed": false
   },
   "outputs": [],
   "source": [
    "tokenizer = Tokenizer(inputCol=\"text\", outputCol=\"words\")"
   ]
  },
  {
   "cell_type": "code",
   "execution_count": 55,
   "metadata": {
    "collapsed": false
   },
   "outputs": [],
   "source": [
    "tokenizedData = tokenizer.transform(trainingData)"
   ]
  },
  {
   "cell_type": "code",
   "execution_count": 63,
   "metadata": {
    "collapsed": false
   },
   "outputs": [
    {
     "name": "stdout",
     "output_type": "stream",
     "text": [
      "+--------------------+-----+--------------------+\n",
      "|                text|label|               words|\n",
      "+--------------------+-----+--------------------+\n",
      "|\" .... much of wh...|  5.0|[\", ...., much, o...|\n",
      "|\" An amazing piec...|  5.0|[\", an, amazing, ...|\n",
      "+--------------------+-----+--------------------+\n",
      "only showing top 2 rows\n",
      "\n"
     ]
    }
   ],
   "source": [
    "tokenizedData.show(2)"
   ]
  },
  {
   "cell_type": "markdown",
   "metadata": {},
   "source": [
    "## StopWordsRemover\n",
    "A transformer that filters out stop words from input. Note: null values from input array are preserved unless adding null to stopWords explicitly."
   ]
  },
  {
   "cell_type": "code",
   "execution_count": 114,
   "metadata": {
    "collapsed": true
   },
   "outputs": [],
   "source": [
    "remover = StopWordsRemover(inputCol=tokenizer.getOutputCol(), outputCol=\"filtered\")"
   ]
  },
  {
   "cell_type": "code",
   "execution_count": 71,
   "metadata": {
    "collapsed": false
   },
   "outputs": [],
   "source": [
    "cleanedData = remover.transform(tokenizedData)"
   ]
  },
  {
   "cell_type": "code",
   "execution_count": 72,
   "metadata": {
    "collapsed": false,
    "scrolled": true
   },
   "outputs": [
    {
     "name": "stdout",
     "output_type": "stream",
     "text": [
      "+--------------------+-----+--------------------+--------------------+\n",
      "|                text|label|               words|            filtered|\n",
      "+--------------------+-----+--------------------+--------------------+\n",
      "|\" .... much of wh...|  5.0|[\", ...., much, o...|[\", ...., thought...|\n",
      "|\" An amazing piec...|  5.0|[\", an, amazing, ...|[\", amazing, piec...|\n",
      "+--------------------+-----+--------------------+--------------------+\n",
      "only showing top 2 rows\n",
      "\n"
     ]
    }
   ],
   "source": [
    "cleanedData.show(2)"
   ]
  },
  {
   "cell_type": "code",
   "execution_count": 74,
   "metadata": {
    "collapsed": false
   },
   "outputs": [],
   "source": [
    "f = cleanedData.first()"
   ]
  },
  {
   "cell_type": "code",
   "execution_count": 84,
   "metadata": {
    "collapsed": false
   },
   "outputs": [
    {
     "name": "stdout",
     "output_type": "stream",
     "text": [
      "[u'\"', u'....', u'much', u'of', u'what', u'has', u'been', u'thought', u'and', u'said']\n",
      "[u'\"', u'....', u'thought', u'said', u'dresden', u'destruction', u'(february', u'13,', u'1945)', u'owes']\n"
     ]
    }
   ],
   "source": [
    "print f['words'][:10]\n",
    "print f['filtered'][:10]"
   ]
  },
  {
   "cell_type": "markdown",
   "metadata": {},
   "source": [
    "## HashingTF\n",
    "A Transformer that converts a sequence of words into a fixed-length feature Vector. It maps a sequence of terms to their term frequencies using a hashing function."
   ]
  },
  {
   "cell_type": "code",
   "execution_count": 115,
   "metadata": {
    "collapsed": true
   },
   "outputs": [],
   "source": [
    "hashingTF = HashingTF(inputCol=remover.getOutputCol(), outputCol=\"features\")"
   ]
  },
  {
   "cell_type": "code",
   "execution_count": 87,
   "metadata": {
    "collapsed": true
   },
   "outputs": [],
   "source": [
    "hashedData = hashingTF.transform(cleanedData)"
   ]
  },
  {
   "cell_type": "code",
   "execution_count": 88,
   "metadata": {
    "collapsed": false
   },
   "outputs": [
    {
     "name": "stdout",
     "output_type": "stream",
     "text": [
      "+--------------------+-----+--------------------+--------------------+--------------------+\n",
      "|                text|label|               words|            filtered|            features|\n",
      "+--------------------+-----+--------------------+--------------------+--------------------+\n",
      "|\" .... much of wh...|  5.0|[\", ...., much, o...|[\", ...., thought...|(262144,[0,34,103...|\n",
      "|\" An amazing piec...|  5.0|[\", an, amazing, ...|[\", amazing, piec...|(262144,[34,42077...|\n",
      "+--------------------+-----+--------------------+--------------------+--------------------+\n",
      "only showing top 2 rows\n",
      "\n"
     ]
    }
   ],
   "source": [
    "hashedData.show(2)"
   ]
  },
  {
   "cell_type": "code",
   "execution_count": 90,
   "metadata": {
    "collapsed": false
   },
   "outputs": [
    {
     "data": {
      "text/plain": [
       "SparseVector(262144, {0: 1.0, 34: 1.0, 1030: 1.0, 2114: 2.0, 2124: 1.0, 4995: 1.0, 6479: 1.0, 7349: 1.0, 9700: 2.0, 9769: 2.0, 9901: 1.0, 11395: 1.0, 12091: 1.0, 14276: 1.0, 14653: 1.0, 16534: 1.0, 16764: 1.0, 18102: 1.0, 19228: 1.0, 20300: 1.0, 20917: 1.0, 23243: 1.0, 23751: 1.0, 23806: 1.0, 24538: 1.0, 26254: 1.0, 26781: 1.0, 26796: 1.0, 29490: 1.0, 29667: 1.0, 29874: 1.0, 30889: 1.0, 34840: 1.0, 35262: 1.0, 36045: 1.0, 37233: 1.0, 37492: 1.0, 37921: 1.0, 38704: 2.0, 39072: 1.0, 39536: 1.0, 39864: 1.0, 40741: 1.0, 43739: 1.0, 43748: 2.0, 44127: 1.0, 44241: 10.0, 44849: 1.0, 46265: 1.0, 48694: 1.0, 48714: 2.0, 48745: 1.0, 49597: 1.0, 50585: 1.0, 50882: 1.0, 51552: 3.0, 51995: 1.0, 52147: 1.0, 52663: 1.0, 52877: 1.0, 53053: 1.0, 53982: 1.0, 54056: 1.0, 54147: 1.0, 55886: 1.0, 56137: 1.0, 57265: 1.0, 58169: 1.0, 59517: 1.0, 60795: 1.0, 60797: 1.0, 61618: 1.0, 61625: 1.0, 61639: 1.0, 62304: 1.0, 63362: 1.0, 64059: 1.0, 65003: 1.0, 65649: 1.0, 65808: 1.0, 66699: 1.0, 66979: 1.0, 69085: 1.0, 71414: 1.0, 72578: 1.0, 72995: 3.0, 74123: 2.0, 74339: 1.0, 74411: 1.0, 77478: 1.0, 77765: 2.0, 78496: 1.0, 79119: 2.0, 81159: 1.0, 82253: 1.0, 82849: 1.0, 84797: 1.0, 84874: 4.0, 84882: 1.0, 85107: 1.0, 85572: 1.0, 85922: 1.0, 87384: 1.0, 91830: 1.0, 92085: 1.0, 93790: 1.0, 96586: 2.0, 97536: 1.0, 97605: 1.0, 97691: 1.0, 98827: 1.0, 99778: 1.0, 100112: 1.0, 100166: 1.0, 100458: 1.0, 101143: 1.0, 101969: 1.0, 103645: 1.0, 104361: 1.0, 104731: 1.0, 104879: 1.0, 105344: 1.0, 106990: 1.0, 111385: 1.0, 111651: 3.0, 113323: 1.0, 113481: 1.0, 113638: 1.0, 114665: 1.0, 117273: 2.0, 117480: 3.0, 118297: 1.0, 118925: 1.0, 119363: 1.0, 119695: 1.0, 122699: 3.0, 126935: 1.0, 128654: 1.0, 130019: 1.0, 130964: 1.0, 134364: 1.0, 134366: 1.0, 135789: 1.0, 141007: 3.0, 146153: 1.0, 148781: 4.0, 150813: 1.0, 151218: 1.0, 151233: 2.0, 151635: 1.0, 152269: 1.0, 153567: 1.0, 154805: 1.0, 156704: 1.0, 157818: 1.0, 158011: 1.0, 158103: 1.0, 159768: 1.0, 160145: 1.0, 161276: 1.0, 166149: 1.0, 166470: 1.0, 166554: 1.0, 166628: 1.0, 169907: 1.0, 170347: 2.0, 170495: 1.0, 172004: 1.0, 174026: 1.0, 175495: 2.0, 175868: 1.0, 176575: 1.0, 178518: 1.0, 179833: 1.0, 180736: 6.0, 180934: 1.0, 187330: 1.0, 190248: 1.0, 191436: 1.0, 191784: 1.0, 192072: 2.0, 192430: 1.0, 193169: 1.0, 193745: 1.0, 194439: 1.0, 195284: 1.0, 195692: 1.0, 197063: 1.0, 200134: 2.0, 200594: 1.0, 201337: 1.0, 201685: 1.0, 202530: 1.0, 203868: 1.0, 205106: 1.0, 205454: 1.0, 205476: 2.0, 205477: 1.0, 205481: 1.0, 205724: 1.0, 205865: 2.0, 206763: 1.0, 208179: 1.0, 209994: 1.0, 210242: 1.0, 210351: 1.0, 212026: 1.0, 212392: 1.0, 214328: 1.0, 216426: 1.0, 217310: 1.0, 219452: 1.0, 220861: 1.0, 222384: 1.0, 222542: 1.0, 227231: 1.0, 227515: 1.0, 228386: 2.0, 230211: 2.0, 231981: 1.0, 232366: 1.0, 234052: 1.0, 234557: 1.0, 234902: 1.0, 237844: 1.0, 238861: 1.0, 239321: 1.0, 239336: 1.0, 239736: 1.0, 240014: 3.0, 240687: 1.0, 242389: 2.0, 246300: 1.0, 248012: 1.0, 249106: 1.0, 249163: 1.0, 251500: 1.0, 251884: 1.0, 252946: 1.0, 254976: 1.0, 255124: 3.0, 255366: 5.0, 258052: 1.0, 260905: 1.0})"
      ]
     },
     "execution_count": 90,
     "metadata": {},
     "output_type": "execute_result"
    }
   ],
   "source": [
    "sample = hashedData.first()"
   ]
  },
  {
   "cell_type": "code",
   "execution_count": 91,
   "metadata": {
    "collapsed": false
   },
   "outputs": [
    {
     "data": {
      "text/plain": [
       "SparseVector(262144, {0: 1.0, 34: 1.0, 1030: 1.0, 2114: 2.0, 2124: 1.0, 4995: 1.0, 6479: 1.0, 7349: 1.0, 9700: 2.0, 9769: 2.0, 9901: 1.0, 11395: 1.0, 12091: 1.0, 14276: 1.0, 14653: 1.0, 16534: 1.0, 16764: 1.0, 18102: 1.0, 19228: 1.0, 20300: 1.0, 20917: 1.0, 23243: 1.0, 23751: 1.0, 23806: 1.0, 24538: 1.0, 26254: 1.0, 26781: 1.0, 26796: 1.0, 29490: 1.0, 29667: 1.0, 29874: 1.0, 30889: 1.0, 34840: 1.0, 35262: 1.0, 36045: 1.0, 37233: 1.0, 37492: 1.0, 37921: 1.0, 38704: 2.0, 39072: 1.0, 39536: 1.0, 39864: 1.0, 40741: 1.0, 43739: 1.0, 43748: 2.0, 44127: 1.0, 44241: 10.0, 44849: 1.0, 46265: 1.0, 48694: 1.0, 48714: 2.0, 48745: 1.0, 49597: 1.0, 50585: 1.0, 50882: 1.0, 51552: 3.0, 51995: 1.0, 52147: 1.0, 52663: 1.0, 52877: 1.0, 53053: 1.0, 53982: 1.0, 54056: 1.0, 54147: 1.0, 55886: 1.0, 56137: 1.0, 57265: 1.0, 58169: 1.0, 59517: 1.0, 60795: 1.0, 60797: 1.0, 61618: 1.0, 61625: 1.0, 61639: 1.0, 62304: 1.0, 63362: 1.0, 64059: 1.0, 65003: 1.0, 65649: 1.0, 65808: 1.0, 66699: 1.0, 66979: 1.0, 69085: 1.0, 71414: 1.0, 72578: 1.0, 72995: 3.0, 74123: 2.0, 74339: 1.0, 74411: 1.0, 77478: 1.0, 77765: 2.0, 78496: 1.0, 79119: 2.0, 81159: 1.0, 82253: 1.0, 82849: 1.0, 84797: 1.0, 84874: 4.0, 84882: 1.0, 85107: 1.0, 85572: 1.0, 85922: 1.0, 87384: 1.0, 91830: 1.0, 92085: 1.0, 93790: 1.0, 96586: 2.0, 97536: 1.0, 97605: 1.0, 97691: 1.0, 98827: 1.0, 99778: 1.0, 100112: 1.0, 100166: 1.0, 100458: 1.0, 101143: 1.0, 101969: 1.0, 103645: 1.0, 104361: 1.0, 104731: 1.0, 104879: 1.0, 105344: 1.0, 106990: 1.0, 111385: 1.0, 111651: 3.0, 113323: 1.0, 113481: 1.0, 113638: 1.0, 114665: 1.0, 117273: 2.0, 117480: 3.0, 118297: 1.0, 118925: 1.0, 119363: 1.0, 119695: 1.0, 122699: 3.0, 126935: 1.0, 128654: 1.0, 130019: 1.0, 130964: 1.0, 134364: 1.0, 134366: 1.0, 135789: 1.0, 141007: 3.0, 146153: 1.0, 148781: 4.0, 150813: 1.0, 151218: 1.0, 151233: 2.0, 151635: 1.0, 152269: 1.0, 153567: 1.0, 154805: 1.0, 156704: 1.0, 157818: 1.0, 158011: 1.0, 158103: 1.0, 159768: 1.0, 160145: 1.0, 161276: 1.0, 166149: 1.0, 166470: 1.0, 166554: 1.0, 166628: 1.0, 169907: 1.0, 170347: 2.0, 170495: 1.0, 172004: 1.0, 174026: 1.0, 175495: 2.0, 175868: 1.0, 176575: 1.0, 178518: 1.0, 179833: 1.0, 180736: 6.0, 180934: 1.0, 187330: 1.0, 190248: 1.0, 191436: 1.0, 191784: 1.0, 192072: 2.0, 192430: 1.0, 193169: 1.0, 193745: 1.0, 194439: 1.0, 195284: 1.0, 195692: 1.0, 197063: 1.0, 200134: 2.0, 200594: 1.0, 201337: 1.0, 201685: 1.0, 202530: 1.0, 203868: 1.0, 205106: 1.0, 205454: 1.0, 205476: 2.0, 205477: 1.0, 205481: 1.0, 205724: 1.0, 205865: 2.0, 206763: 1.0, 208179: 1.0, 209994: 1.0, 210242: 1.0, 210351: 1.0, 212026: 1.0, 212392: 1.0, 214328: 1.0, 216426: 1.0, 217310: 1.0, 219452: 1.0, 220861: 1.0, 222384: 1.0, 222542: 1.0, 227231: 1.0, 227515: 1.0, 228386: 2.0, 230211: 2.0, 231981: 1.0, 232366: 1.0, 234052: 1.0, 234557: 1.0, 234902: 1.0, 237844: 1.0, 238861: 1.0, 239321: 1.0, 239336: 1.0, 239736: 1.0, 240014: 3.0, 240687: 1.0, 242389: 2.0, 246300: 1.0, 248012: 1.0, 249106: 1.0, 249163: 1.0, 251500: 1.0, 251884: 1.0, 252946: 1.0, 254976: 1.0, 255124: 3.0, 255366: 5.0, 258052: 1.0, 260905: 1.0})"
      ]
     },
     "execution_count": 91,
     "metadata": {},
     "output_type": "execute_result"
    }
   ],
   "source": [
    "sample['features']"
   ]
  },
  {
   "cell_type": "markdown",
   "metadata": {},
   "source": [
    "# Estimator\n",
    "## LogisticRegression"
   ]
  },
  {
   "cell_type": "code",
   "execution_count": 116,
   "metadata": {
    "collapsed": true
   },
   "outputs": [],
   "source": [
    "lr = LogisticRegression(maxIter=10, regParam=0.01)"
   ]
  },
  {
   "cell_type": "code",
   "execution_count": 117,
   "metadata": {
    "collapsed": true
   },
   "outputs": [],
   "source": [
    "pipeline = Pipeline(stages=[tokenizer, remover, hashingTF, lr])"
   ]
  },
  {
   "cell_type": "code",
   "execution_count": 118,
   "metadata": {
    "collapsed": false
   },
   "outputs": [
    {
     "name": "stdout",
     "output_type": "stream",
     "text": [
      "+-----+-------+\n",
      "|label|  count|\n",
      "+-----+-------+\n",
      "|  1.0|3982457|\n",
      "|  0.0| 259147|\n",
      "+-----+-------+\n",
      "\n"
     ]
    }
   ],
   "source": [
    "trainingData.groupBy('label').count().show()"
   ]
  },
  {
   "cell_type": "code",
   "execution_count": 119,
   "metadata": {
    "collapsed": false
   },
   "outputs": [],
   "source": [
    "pipeLineModel = pipeline.fit(trainingData)"
   ]
  },
  {
   "cell_type": "code",
   "execution_count": 123,
   "metadata": {
    "collapsed": false
   },
   "outputs": [
    {
     "name": "stdout",
     "output_type": "stream",
     "text": [
      "CPU times: user 21.7 ms, sys: 11.3 ms, total: 33 ms\n",
      "Wall time: 36.2 s\n"
     ]
    }
   ],
   "source": [
    "%%time\n",
    "testPredictions = pipeLineModel.transform(testData)\n",
    "trainingPredictions = pipeLineModel.transform(trainingData)\n",
    "\n",
    "evaluator = BinaryClassificationEvaluator()\n",
    "evaluatorParamMap = {evaluator.metricName: 'areaUnderROC'}\n",
    "\n",
    "aucTraining = evaluator.evaluate(trainingPredictions, evaluatorParamMap)\n",
    "\n",
    "aucTest = evaluator.evaluate(testPredictions, evaluatorParamMap)"
   ]
  },
  {
   "cell_type": "code",
   "execution_count": 146,
   "metadata": {
    "collapsed": false
   },
   "outputs": [
    {
     "name": "stdout",
     "output_type": "stream",
     "text": [
      "AUR training dataset:  0.990321053742\n",
      "AUR testing dataset:  0.965908598292\n"
     ]
    }
   ],
   "source": [
    "print 'AUR training dataset: ', aucTraining\n",
    "print 'AUR testing dataset: ', aucTest"
   ]
  },
  {
   "cell_type": "markdown",
   "metadata": {},
   "source": [
    "# Hyperparameter Tuning"
   ]
  },
  {
   "cell_type": "code",
   "execution_count": null,
   "metadata": {
    "collapsed": true
   },
   "outputs": [],
   "source": [
    "%%time\n",
    "paramGrid = ParamGridBuilder() \\\n",
    "            .addGrid(hashingTF.numFeatures, [10000, 100000]) \\\n",
    "            .addGrid(lr.regParam, [0.01, 0.1, 1.0]) \\\n",
    "            .addGrid(lr.maxIter, [10, 20]) \\\n",
    "            .build()\n",
    "            \n",
    "cv = CrossValidator()\n",
    "cv.setEstimator(pipeline)\n",
    "cv.setEvaluator(evaluator)\n",
    "cv.setEstimatorParamMaps(paramGrid)\n",
    "cv.setNumFolds(3)\n",
    "\n",
    "crossValidatorModel = cv.fit(trainingData)"
   ]
  },
  {
   "cell_type": "code",
   "execution_count": 126,
   "metadata": {
    "collapsed": false
   },
   "outputs": [],
   "source": [
    "newPredictions = crossValidatorModel.transform(testData)\n",
    "\n",
    "newAucTest = evaluator.evaluate(newPredictions, evaluatorParamMap)\n",
    "\n",
    "bestModel = crossValidatorModel.bestModel"
   ]
  },
  {
   "cell_type": "code",
   "execution_count": 148,
   "metadata": {
    "collapsed": false
   },
   "outputs": [
    {
     "name": "stdout",
     "output_type": "stream",
     "text": [
      "AUR testing dataset:  0.968295085196\n"
     ]
    }
   ],
   "source": [
    "print 'AUR testing dataset: ', newAucTest"
   ]
  },
  {
   "cell_type": "markdown",
   "metadata": {},
   "source": [
    "## Retrieving the parameters of the best model"
   ]
  },
  {
   "cell_type": "code",
   "execution_count": 135,
   "metadata": {
    "collapsed": false
   },
   "outputs": [
    {
     "data": {
      "text/plain": [
       "[Tokenizer_42cca5171a50de7dc04b,\n",
       " StopWordsRemover_413fad8413159b4ff1e1,\n",
       " HashingTF_4ee1bc268e255b3ed847,\n",
       " LogisticRegression_42c1a064cbc547bc7402]"
      ]
     },
     "execution_count": 135,
     "metadata": {},
     "output_type": "execute_result"
    }
   ],
   "source": [
    "bestModel.stages"
   ]
  },
  {
   "cell_type": "code",
   "execution_count": 137,
   "metadata": {
    "collapsed": false
   },
   "outputs": [],
   "source": [
    "bestTK = bestModel.stages[2]\n",
    "bestLR = bestModel.stages[3]"
   ]
  },
  {
   "cell_type": "code",
   "execution_count": 138,
   "metadata": {
    "collapsed": false,
    "scrolled": true
   },
   "outputs": [
    {
     "data": {
      "text/plain": [
       "{Param(parent='HashingTF_4ee1bc268e255b3ed847', name='numFeatures', doc='number of features.'): 100000,\n",
       " Param(parent='HashingTF_4ee1bc268e255b3ed847', name='outputCol', doc='output column name.'): 'features',\n",
       " Param(parent='LogisticRegression_42c1a064cbc547bc7402', name='regParam', doc='regularization parameter (>= 0).'): 0.1,\n",
       " Param(parent='LogisticRegression_42c1a064cbc547bc7402', name='maxIter', doc='max number of iterations (>= 0).'): 20,\n",
       " Param(parent='HashingTF_4ee1bc268e255b3ed847', name='inputCol', doc='input column name.'): 'filtered'}"
      ]
     },
     "execution_count": 138,
     "metadata": {},
     "output_type": "execute_result"
    }
   ],
   "source": [
    "bestTK.extractParamMap()\n",
    "# numFeatures: 100000, regParam: 0.1, maxIter: 20"
   ]
  },
  {
   "cell_type": "code",
   "execution_count": 145,
   "metadata": {
    "collapsed": false
   },
   "outputs": [
    {
     "name": "stdout",
     "output_type": "stream",
     "text": [
      "First 5 LR weights:  [-0.00120508  0.11889881 -0.37481442  0.05985811  0.06514214]\n",
      "First 5 LR coefficients:  [-0.00120508  0.11889881 -0.37481442  0.05985811  0.06514214]\n",
      "Intercept:  2.60801770355\n"
     ]
    }
   ],
   "source": [
    "print 'First 5 LR weights: ', bestLR.weights[:5]\n",
    "print 'First 5 LR coefficients: ', bestLR.coefficients[:5]\n",
    "print 'Intercept: ', bestLR.intercept"
   ]
  },
  {
   "cell_type": "markdown",
   "metadata": {},
   "source": [
    "# Plotting Data"
   ]
  },
  {
   "cell_type": "code",
   "execution_count": 4,
   "metadata": {
    "collapsed": false
   },
   "outputs": [],
   "source": [
    "%matplotlib inline"
   ]
  },
  {
   "cell_type": "code",
   "execution_count": 5,
   "metadata": {
    "collapsed": true
   },
   "outputs": [],
   "source": [
    "import pandas as pd\n",
    "df = pd.DataFrame([['hola', 10], ['mundo', 1], ['test', 5]], columns=['Noun', 'Count'])"
   ]
  },
  {
   "cell_type": "code",
   "execution_count": 3,
   "metadata": {
    "collapsed": false
   },
   "outputs": [
    {
     "data": {
      "text/html": [
       "\n",
       "    <div class=\"bk-root\">\n",
       "        <a href=\"http://bokeh.pydata.org\" target=\"_blank\" class=\"bk-logo bk-logo-small bk-logo-notebook\"></a>\n",
       "        <span id=\"3e625ece-cd24-42a3-b196-614664ee1ea0\">Loading BokehJS ...</span>\n",
       "    </div>"
      ]
     },
     "metadata": {},
     "output_type": "display_data"
    },
    {
     "data": {
      "application/javascript": [
       "\n",
       "(function(global) {\n",
       "  function now() {\n",
       "    return new Date();\n",
       "  }\n",
       "\n",
       "  if (typeof (window._bokeh_onload_callbacks) === \"undefined\") {\n",
       "    window._bokeh_onload_callbacks = [];\n",
       "  }\n",
       "\n",
       "  function run_callbacks() {\n",
       "    window._bokeh_onload_callbacks.forEach(function(callback) { callback() });\n",
       "    delete window._bokeh_onload_callbacks\n",
       "    console.info(\"Bokeh: all callbacks have finished\");\n",
       "  }\n",
       "\n",
       "  function load_libs(js_urls, callback) {\n",
       "    window._bokeh_onload_callbacks.push(callback);\n",
       "    if (window._bokeh_is_loading > 0) {\n",
       "      console.log(\"Bokeh: BokehJS is being loaded, scheduling callback at\", now());\n",
       "      return null;\n",
       "    }\n",
       "    if (js_urls == null || js_urls.length === 0) {\n",
       "      run_callbacks();\n",
       "      return null;\n",
       "    }\n",
       "    console.log(\"Bokeh: BokehJS not loaded, scheduling load and callback at\", now());\n",
       "    window._bokeh_is_loading = js_urls.length;\n",
       "    for (var i = 0; i < js_urls.length; i++) {\n",
       "      var url = js_urls[i];\n",
       "      var s = document.createElement('script');\n",
       "      s.src = url;\n",
       "      s.async = false;\n",
       "      s.onreadystatechange = s.onload = function() {\n",
       "        window._bokeh_is_loading--;\n",
       "        if (window._bokeh_is_loading === 0) {\n",
       "          console.log(\"Bokeh: all BokehJS libraries loaded\");\n",
       "          run_callbacks()\n",
       "        }\n",
       "      };\n",
       "      s.onerror = function() {\n",
       "        console.warn(\"failed to load library \" + url);\n",
       "      };\n",
       "      console.log(\"Bokeh: injecting script tag for BokehJS library: \", url);\n",
       "      document.getElementsByTagName(\"head\")[0].appendChild(s);\n",
       "    }\n",
       "  };\n",
       "\n",
       "  var js_urls = ['https://cdn.pydata.org/bokeh/release/bokeh-0.12.0.min.js', 'https://cdn.pydata.org/bokeh/release/bokeh-widgets-0.12.0.min.js', 'https://cdn.pydata.org/bokeh/release/bokeh-compiler-0.12.0.min.js'];\n",
       "\n",
       "  var inline_js = [\n",
       "    function(Bokeh) {\n",
       "      Bokeh.set_log_level(\"info\");\n",
       "    },\n",
       "    \n",
       "    function(Bokeh) {\n",
       "      Bokeh.$(\"#3e625ece-cd24-42a3-b196-614664ee1ea0\").text(\"BokehJS successfully loaded\");\n",
       "    },\n",
       "    function(Bokeh) {\n",
       "      console.log(\"Bokeh: injecting CSS: https://cdn.pydata.org/bokeh/release/bokeh-0.12.0.min.css\");\n",
       "      Bokeh.embed.inject_css(\"https://cdn.pydata.org/bokeh/release/bokeh-0.12.0.min.css\");\n",
       "      console.log(\"Bokeh: injecting CSS: https://cdn.pydata.org/bokeh/release/bokeh-widgets-0.12.0.min.css\");\n",
       "      Bokeh.embed.inject_css(\"https://cdn.pydata.org/bokeh/release/bokeh-widgets-0.12.0.min.css\");\n",
       "    }\n",
       "  ];\n",
       "\n",
       "  function run_inline_js() {\n",
       "    for (var i = 0; i < inline_js.length; i++) {\n",
       "      inline_js[i](window.Bokeh);\n",
       "    }\n",
       "  }\n",
       "\n",
       "  if (window._bokeh_is_loading === 0) {\n",
       "    console.log(\"Bokeh: BokehJS loaded, going straight to plotting\");\n",
       "    run_inline_js();\n",
       "  } else {\n",
       "    load_libs(js_urls, function() {\n",
       "      console.log(\"Bokeh: BokehJS plotting callback run at\", now());\n",
       "      run_inline_js();\n",
       "    });\n",
       "  }\n",
       "}(this));"
      ]
     },
     "metadata": {},
     "output_type": "display_data"
    },
    {
     "data": {
      "text/html": [
       "\n",
       "\n",
       "    <div class=\"bk-root\">\n",
       "        <div class=\"plotdiv\" id=\"1670cb3d-3208-4eaf-9ef6-f6a0f3cff8a2\"></div>\n",
       "    </div>\n",
       "<script type=\"text/javascript\">\n",
       "  \n",
       "  (function(global) {\n",
       "    function now() {\n",
       "      return new Date();\n",
       "    }\n",
       "  \n",
       "    if (typeof (window._bokeh_onload_callbacks) === \"undefined\") {\n",
       "      window._bokeh_onload_callbacks = [];\n",
       "    }\n",
       "  \n",
       "    function run_callbacks() {\n",
       "      window._bokeh_onload_callbacks.forEach(function(callback) { callback() });\n",
       "      delete window._bokeh_onload_callbacks\n",
       "      console.info(\"Bokeh: all callbacks have finished\");\n",
       "    }\n",
       "  \n",
       "    function load_libs(js_urls, callback) {\n",
       "      window._bokeh_onload_callbacks.push(callback);\n",
       "      if (window._bokeh_is_loading > 0) {\n",
       "        console.log(\"Bokeh: BokehJS is being loaded, scheduling callback at\", now());\n",
       "        return null;\n",
       "      }\n",
       "      if (js_urls == null || js_urls.length === 0) {\n",
       "        run_callbacks();\n",
       "        return null;\n",
       "      }\n",
       "      console.log(\"Bokeh: BokehJS not loaded, scheduling load and callback at\", now());\n",
       "      window._bokeh_is_loading = js_urls.length;\n",
       "      for (var i = 0; i < js_urls.length; i++) {\n",
       "        var url = js_urls[i];\n",
       "        var s = document.createElement('script');\n",
       "        s.src = url;\n",
       "        s.async = false;\n",
       "        s.onreadystatechange = s.onload = function() {\n",
       "          window._bokeh_is_loading--;\n",
       "          if (window._bokeh_is_loading === 0) {\n",
       "            console.log(\"Bokeh: all BokehJS libraries loaded\");\n",
       "            run_callbacks()\n",
       "          }\n",
       "        };\n",
       "        s.onerror = function() {\n",
       "          console.warn(\"failed to load library \" + url);\n",
       "        };\n",
       "        console.log(\"Bokeh: injecting script tag for BokehJS library: \", url);\n",
       "        document.getElementsByTagName(\"head\")[0].appendChild(s);\n",
       "      }\n",
       "    };var element = document.getElementById(\"1670cb3d-3208-4eaf-9ef6-f6a0f3cff8a2\");\n",
       "    if (element == null) {\n",
       "      console.log(\"Bokeh: ERROR: autoload.js configured with elementid '1670cb3d-3208-4eaf-9ef6-f6a0f3cff8a2' but no matching script tag was found. \")\n",
       "      return false;\n",
       "    }\n",
       "  \n",
       "    var js_urls = [];\n",
       "  \n",
       "    var inline_js = [\n",
       "      function(Bokeh) {\n",
       "        Bokeh.$(function() {\n",
       "            var docs_json = {\"61b40e33-f1f8-41e3-92bd-c34b20fdaaed\":{\"roots\":{\"references\":[{\"attributes\":{\"active_drag\":\"auto\",\"active_scroll\":\"auto\",\"active_tap\":\"auto\",\"tools\":[{\"id\":\"3a04f812-fddc-416e-8bac-e6aea3638373\",\"type\":\"PanTool\"},{\"id\":\"bf412988-1769-49bb-9f2a-2bab5a7b19dd\",\"type\":\"WheelZoomTool\"},{\"id\":\"713ca854-bdad-4203-88a0-f39dfe488e2e\",\"type\":\"BoxZoomTool\"},{\"id\":\"e99dea12-576f-42f0-9eda-8c979f649f60\",\"type\":\"SaveTool\"},{\"id\":\"b1bd5e03-f13d-46cf-a9e2-8284b4d9e350\",\"type\":\"ResetTool\"},{\"id\":\"2237c10d-f34a-4d09-80f2-3fed5ae1a52c\",\"type\":\"HelpTool\"}]},\"id\":\"b54b87db-060b-4516-8032-f30fb202da7a\",\"type\":\"Toolbar\"},{\"attributes\":{\"callback\":null,\"column_names\":[\"line_color\",\"line_alpha\",\"color\",\"fill_alpha\",\"height\",\"width\",\"y\",\"x\",\"label\"],\"data\":{\"Noun\":[\"test\"],\"chart_index\":[{\"Noun\":\"test\"}],\"color\":[\"#f22c40\"],\"fill_alpha\":[0.8],\"height\":[5.0],\"label\":[{\"Noun\":\"test\"}],\"line_alpha\":[1.0],\"line_color\":[\"white\"],\"width\":[0.8],\"x\":[\"test\"],\"y\":[2.5]}},\"id\":\"57dc9424-82cc-4d3e-9a53-643df76d9311\",\"type\":\"ColumnDataSource\"},{\"attributes\":{\"callback\":null,\"column_names\":[\"line_color\",\"line_alpha\",\"color\",\"fill_alpha\",\"height\",\"width\",\"y\",\"x\",\"label\"],\"data\":{\"Noun\":[\"hola\"],\"chart_index\":[{\"Noun\":\"hola\"}],\"color\":[\"#f22c40\"],\"fill_alpha\":[0.8],\"height\":[10.0],\"label\":[{\"Noun\":\"hola\"}],\"line_alpha\":[1.0],\"line_color\":[\"white\"],\"width\":[0.8],\"x\":[\"hola\"],\"y\":[5.0]}},\"id\":\"17aaef88-5e99-40d9-acff-0fdc6508d176\",\"type\":\"ColumnDataSource\"},{\"attributes\":{\"plot\":{\"id\":\"d03b797c-ac81-4adf-b7b1-a5a8b777b396\",\"subtype\":\"Chart\",\"type\":\"Plot\"}},\"id\":\"b1bd5e03-f13d-46cf-a9e2-8284b4d9e350\",\"type\":\"ResetTool\"},{\"attributes\":{\"fill_alpha\":{\"field\":\"fill_alpha\"},\"fill_color\":{\"field\":\"color\"},\"height\":{\"field\":\"height\",\"units\":\"data\"},\"line_color\":{\"field\":\"line_color\"},\"width\":{\"field\":\"width\",\"units\":\"data\"},\"x\":{\"field\":\"x\"},\"y\":{\"field\":\"y\"}},\"id\":\"4866cc3f-7908-43f2-b951-e00005d8820f\",\"type\":\"Rect\"},{\"attributes\":{\"plot\":{\"id\":\"d03b797c-ac81-4adf-b7b1-a5a8b777b396\",\"subtype\":\"Chart\",\"type\":\"Plot\"}},\"id\":\"e99dea12-576f-42f0-9eda-8c979f649f60\",\"type\":\"SaveTool\"},{\"attributes\":{\"callback\":null,\"factors\":[\"hola\",\"mundo\",\"test\"]},\"id\":\"479e910a-8024-4d45-bb51-0f5ddcb16b06\",\"type\":\"FactorRange\"},{\"attributes\":{\"data_source\":{\"id\":\"14044844-5e0a-4b0b-9d66-248b93d77f9e\",\"type\":\"ColumnDataSource\"},\"glyph\":{\"id\":\"5c22f6ef-4c52-49e8-a769-40c314472d30\",\"type\":\"Rect\"},\"hover_glyph\":null,\"nonselection_glyph\":null,\"selection_glyph\":null},\"id\":\"52deeebe-4146-4778-9ccf-db5310e5b69b\",\"type\":\"GlyphRenderer\"},{\"attributes\":{\"plot\":null,\"text\":\"Top N nouns in r/movies subreddit\"},\"id\":\"02b30485-1f76-49e1-b5a9-f2e000287eee\",\"type\":\"Title\"},{\"attributes\":{\"plot\":{\"id\":\"d03b797c-ac81-4adf-b7b1-a5a8b777b396\",\"subtype\":\"Chart\",\"type\":\"Plot\"}},\"id\":\"bf412988-1769-49bb-9f2a-2bab5a7b19dd\",\"type\":\"WheelZoomTool\"},{\"attributes\":{\"callback\":null,\"column_names\":[\"line_color\",\"line_alpha\",\"color\",\"fill_alpha\",\"height\",\"width\",\"y\",\"x\",\"label\"],\"data\":{\"Noun\":[\"mundo\"],\"chart_index\":[{\"Noun\":\"mundo\"}],\"color\":[\"#f22c40\"],\"fill_alpha\":[0.8],\"height\":[1.0],\"label\":[{\"Noun\":\"mundo\"}],\"line_alpha\":[1.0],\"line_color\":[\"white\"],\"width\":[0.8],\"x\":[\"mundo\"],\"y\":[0.5]}},\"id\":\"14044844-5e0a-4b0b-9d66-248b93d77f9e\",\"type\":\"ColumnDataSource\"},{\"attributes\":{\"axis_label\":\"Sum( Count )\",\"formatter\":{\"id\":\"9e0ee96f-196f-49e3-b19d-4c44dc923ebf\",\"type\":\"BasicTickFormatter\"},\"plot\":{\"id\":\"d03b797c-ac81-4adf-b7b1-a5a8b777b396\",\"subtype\":\"Chart\",\"type\":\"Plot\"},\"ticker\":{\"id\":\"2b5480ca-3d33-4203-aeea-859fcc9117d5\",\"type\":\"BasicTicker\"}},\"id\":\"3813af41-1df1-46b7-b3e3-1c9108d6e3eb\",\"type\":\"LinearAxis\"},{\"attributes\":{\"fill_alpha\":{\"field\":\"fill_alpha\"},\"fill_color\":{\"field\":\"color\"},\"height\":{\"field\":\"height\",\"units\":\"data\"},\"line_color\":{\"field\":\"line_color\"},\"width\":{\"field\":\"width\",\"units\":\"data\"},\"x\":{\"field\":\"x\"},\"y\":{\"field\":\"y\"}},\"id\":\"5c22f6ef-4c52-49e8-a769-40c314472d30\",\"type\":\"Rect\"},{\"attributes\":{\"axis_label\":\"Noun\",\"formatter\":{\"id\":\"1594c172-e187-4bda-b63e-2fda289df7de\",\"type\":\"CategoricalTickFormatter\"},\"major_label_orientation\":0.7853981633974483,\"plot\":{\"id\":\"d03b797c-ac81-4adf-b7b1-a5a8b777b396\",\"subtype\":\"Chart\",\"type\":\"Plot\"},\"ticker\":{\"id\":\"790237d2-dc5b-4830-899d-0c5a6283a692\",\"type\":\"CategoricalTicker\"}},\"id\":\"ec30d5d1-9cb4-4d1b-8c0b-fe16762aa6d0\",\"type\":\"CategoricalAxis\"},{\"attributes\":{\"data_source\":{\"id\":\"17aaef88-5e99-40d9-acff-0fdc6508d176\",\"type\":\"ColumnDataSource\"},\"glyph\":{\"id\":\"607e5fc9-d367-4ebd-a205-e8d01e821011\",\"type\":\"Rect\"},\"hover_glyph\":null,\"nonselection_glyph\":null,\"selection_glyph\":null},\"id\":\"8d0aeb63-d73b-4c09-80b8-a3414e4d0776\",\"type\":\"GlyphRenderer\"},{\"attributes\":{},\"id\":\"1594c172-e187-4bda-b63e-2fda289df7de\",\"type\":\"CategoricalTickFormatter\"},{\"attributes\":{\"overlay\":{\"id\":\"ef566e20-be51-4903-8a0b-bb3d637aaf6b\",\"type\":\"BoxAnnotation\"},\"plot\":{\"id\":\"d03b797c-ac81-4adf-b7b1-a5a8b777b396\",\"subtype\":\"Chart\",\"type\":\"Plot\"}},\"id\":\"713ca854-bdad-4203-88a0-f39dfe488e2e\",\"type\":\"BoxZoomTool\"},{\"attributes\":{},\"id\":\"9e0ee96f-196f-49e3-b19d-4c44dc923ebf\",\"type\":\"BasicTickFormatter\"},{\"attributes\":{\"plot\":{\"id\":\"d03b797c-ac81-4adf-b7b1-a5a8b777b396\",\"subtype\":\"Chart\",\"type\":\"Plot\"}},\"id\":\"2237c10d-f34a-4d09-80f2-3fed5ae1a52c\",\"type\":\"HelpTool\"},{\"attributes\":{\"plot\":{\"id\":\"d03b797c-ac81-4adf-b7b1-a5a8b777b396\",\"subtype\":\"Chart\",\"type\":\"Plot\"}},\"id\":\"3a04f812-fddc-416e-8bac-e6aea3638373\",\"type\":\"PanTool\"},{\"attributes\":{},\"id\":\"2b5480ca-3d33-4203-aeea-859fcc9117d5\",\"type\":\"BasicTicker\"},{\"attributes\":{\"dimension\":1,\"plot\":{\"id\":\"d03b797c-ac81-4adf-b7b1-a5a8b777b396\",\"subtype\":\"Chart\",\"type\":\"Plot\"},\"ticker\":{\"id\":\"2b5480ca-3d33-4203-aeea-859fcc9117d5\",\"type\":\"BasicTicker\"}},\"id\":\"1f9cb0fa-eed6-4bd8-960a-f82802649bcf\",\"type\":\"Grid\"},{\"attributes\":{},\"id\":\"790237d2-dc5b-4830-899d-0c5a6283a692\",\"type\":\"CategoricalTicker\"},{\"attributes\":{\"bottom_units\":\"screen\",\"fill_alpha\":{\"value\":0.5},\"fill_color\":{\"value\":\"lightgrey\"},\"left_units\":\"screen\",\"level\":\"overlay\",\"line_alpha\":{\"value\":1.0},\"line_color\":{\"value\":\"black\"},\"line_dash\":[4,4],\"line_width\":{\"value\":2},\"plot\":null,\"render_mode\":\"css\",\"right_units\":\"screen\",\"top_units\":\"screen\"},\"id\":\"ef566e20-be51-4903-8a0b-bb3d637aaf6b\",\"type\":\"BoxAnnotation\"},{\"attributes\":{\"data_source\":{\"id\":\"57dc9424-82cc-4d3e-9a53-643df76d9311\",\"type\":\"ColumnDataSource\"},\"glyph\":{\"id\":\"4866cc3f-7908-43f2-b951-e00005d8820f\",\"type\":\"Rect\"},\"hover_glyph\":null,\"nonselection_glyph\":null,\"selection_glyph\":null},\"id\":\"faeaa716-20c0-44da-8ab4-9b00a0a81435\",\"type\":\"GlyphRenderer\"},{\"attributes\":{\"legends\":[[\"hola\",[{\"id\":\"8d0aeb63-d73b-4c09-80b8-a3414e4d0776\",\"type\":\"GlyphRenderer\"}]],[\"mundo\",[{\"id\":\"52deeebe-4146-4778-9ccf-db5310e5b69b\",\"type\":\"GlyphRenderer\"}]],[\"test\",[{\"id\":\"faeaa716-20c0-44da-8ab4-9b00a0a81435\",\"type\":\"GlyphRenderer\"}]]],\"plot\":{\"id\":\"d03b797c-ac81-4adf-b7b1-a5a8b777b396\",\"subtype\":\"Chart\",\"type\":\"Plot\"}},\"id\":\"e55d8f51-d261-42ee-9e9d-4bebc0006bd2\",\"type\":\"Legend\"},{\"attributes\":{\"callback\":null,\"end\":10.5},\"id\":\"2238dcb9-948f-4332-bcbb-9a9a45e1acaa\",\"type\":\"Range1d\"},{\"attributes\":{\"below\":[{\"id\":\"ec30d5d1-9cb4-4d1b-8c0b-fe16762aa6d0\",\"type\":\"CategoricalAxis\"}],\"left\":[{\"id\":\"3813af41-1df1-46b7-b3e3-1c9108d6e3eb\",\"type\":\"LinearAxis\"}],\"renderers\":[{\"id\":\"ef566e20-be51-4903-8a0b-bb3d637aaf6b\",\"type\":\"BoxAnnotation\"},{\"id\":\"8d0aeb63-d73b-4c09-80b8-a3414e4d0776\",\"type\":\"GlyphRenderer\"},{\"id\":\"52deeebe-4146-4778-9ccf-db5310e5b69b\",\"type\":\"GlyphRenderer\"},{\"id\":\"faeaa716-20c0-44da-8ab4-9b00a0a81435\",\"type\":\"GlyphRenderer\"},{\"id\":\"e55d8f51-d261-42ee-9e9d-4bebc0006bd2\",\"type\":\"Legend\"},{\"id\":\"ec30d5d1-9cb4-4d1b-8c0b-fe16762aa6d0\",\"type\":\"CategoricalAxis\"},{\"id\":\"3813af41-1df1-46b7-b3e3-1c9108d6e3eb\",\"type\":\"LinearAxis\"},{\"id\":\"1f9cb0fa-eed6-4bd8-960a-f82802649bcf\",\"type\":\"Grid\"}],\"title\":{\"id\":\"02b30485-1f76-49e1-b5a9-f2e000287eee\",\"type\":\"Title\"},\"tool_events\":{\"id\":\"b5c0677f-4d76-4184-ae2f-67192f1813a5\",\"type\":\"ToolEvents\"},\"toolbar\":{\"id\":\"b54b87db-060b-4516-8032-f30fb202da7a\",\"type\":\"Toolbar\"},\"x_mapper_type\":\"auto\",\"x_range\":{\"id\":\"479e910a-8024-4d45-bb51-0f5ddcb16b06\",\"type\":\"FactorRange\"},\"y_mapper_type\":\"auto\",\"y_range\":{\"id\":\"2238dcb9-948f-4332-bcbb-9a9a45e1acaa\",\"type\":\"Range1d\"}},\"id\":\"d03b797c-ac81-4adf-b7b1-a5a8b777b396\",\"subtype\":\"Chart\",\"type\":\"Plot\"},{\"attributes\":{},\"id\":\"b5c0677f-4d76-4184-ae2f-67192f1813a5\",\"type\":\"ToolEvents\"},{\"attributes\":{\"fill_alpha\":{\"field\":\"fill_alpha\"},\"fill_color\":{\"field\":\"color\"},\"height\":{\"field\":\"height\",\"units\":\"data\"},\"line_color\":{\"field\":\"line_color\"},\"width\":{\"field\":\"width\",\"units\":\"data\"},\"x\":{\"field\":\"x\"},\"y\":{\"field\":\"y\"}},\"id\":\"607e5fc9-d367-4ebd-a205-e8d01e821011\",\"type\":\"Rect\"}],\"root_ids\":[\"d03b797c-ac81-4adf-b7b1-a5a8b777b396\"]},\"title\":\"Bokeh Application\",\"version\":\"0.12.0\"}};\n",
       "            var render_items = [{\"docid\":\"61b40e33-f1f8-41e3-92bd-c34b20fdaaed\",\"elementid\":\"1670cb3d-3208-4eaf-9ef6-f6a0f3cff8a2\",\"modelid\":\"d03b797c-ac81-4adf-b7b1-a5a8b777b396\",\"notebook_comms_target\":\"f3235f94-6d6e-4cb3-a5a1-e1a7aad6f32f\"}];\n",
       "            \n",
       "            Bokeh.embed.embed_items(docs_json, render_items);\n",
       "        });\n",
       "      },\n",
       "      function(Bokeh) {\n",
       "      }\n",
       "    ];\n",
       "  \n",
       "    function run_inline_js() {\n",
       "      for (var i = 0; i < inline_js.length; i++) {\n",
       "        inline_js[i](window.Bokeh);\n",
       "      }\n",
       "    }\n",
       "  \n",
       "    if (window._bokeh_is_loading === 0) {\n",
       "      console.log(\"Bokeh: BokehJS loaded, going straight to plotting\");\n",
       "      run_inline_js();\n",
       "    } else {\n",
       "      load_libs(js_urls, function() {\n",
       "        console.log(\"Bokeh: BokehJS plotting callback run at\", now());\n",
       "        run_inline_js();\n",
       "      });\n",
       "    }\n",
       "  }(this));\n",
       "</script>"
      ]
     },
     "metadata": {},
     "output_type": "display_data"
    },
    {
     "data": {
      "text/html": [
       "<p><code>&lt;Bokeh Notebook handle for <strong>In[3]</strong>&gt;</code></p>"
      ],
      "text/plain": [
       "<bokeh.io._CommsHandle at 0x7ff1856e5d90>"
      ]
     },
     "execution_count": 3,
     "metadata": {},
     "output_type": "execute_result"
    }
   ],
   "source": [
    "from bokeh.charts import Bar, show\n",
    "from bokeh.io import output_notebook\n",
    "from bokeh.charts.attributes import cat\n",
    "output_notebook()\n",
    "\n",
    "p = Bar(df, label=cat(columns='Noun', sort=False), values='Count',\n",
    "        title='Top N nouns in r/movies subreddit',\n",
    "        legend='top_right')\n",
    "show(p)"
   ]
  },
  {
   "cell_type": "code",
   "execution_count": 3,
   "metadata": {
    "collapsed": false
   },
   "outputs": [
    {
     "data": {
      "text/plain": [
       "data/sentiment_labelled_sentences/yelp_labelled.txt MapPartitionsRDD[1] at textFile at NativeMethodAccessorImpl.java:-2"
      ]
     },
     "execution_count": 3,
     "metadata": {},
     "output_type": "execute_result"
    }
   ],
   "source": [
    "lines.cache()"
   ]
  },
  {
   "cell_type": "code",
   "execution_count": 4,
   "metadata": {
    "collapsed": false
   },
   "outputs": [
    {
     "data": {
      "text/plain": [
       "1000"
      ]
     },
     "execution_count": 4,
     "metadata": {},
     "output_type": "execute_result"
    }
   ],
   "source": [
    "lines.count()"
   ]
  },
  {
   "cell_type": "code",
   "execution_count": 5,
   "metadata": {
    "collapsed": false
   },
   "outputs": [
    {
     "data": {
      "text/plain": [
       "[u'Wow... Loved this place.', u'1']"
      ]
     },
     "execution_count": 5,
     "metadata": {},
     "output_type": "execute_result"
    }
   ],
   "source": [
    "columns = lines.map(lambda line: line.split('\\t'))\n",
    "columns.first()"
   ]
  },
  {
   "cell_type": "code",
   "execution_count": 23,
   "metadata": {
    "collapsed": false
   },
   "outputs": [
    {
     "data": {
      "text/plain": [
       "Row(text=u'Wow... Loved this place.', label=1.0)"
      ]
     },
     "execution_count": 23,
     "metadata": {},
     "output_type": "execute_result"
    }
   ],
   "source": [
    "Review = Row(\"text\", \"label\")\n",
    "reviews = columns.map(lambda (text, label): Review(text, float(label))).toDF()\n",
    "reviews.first()"
   ]
  },
  {
   "cell_type": "code",
   "execution_count": 8,
   "metadata": {
    "collapsed": true
   },
   "outputs": [],
   "source": [
    "reviews2 = sqlContext.createDataFrame(columns.map(lambda (text, label): Review(text, int(label))))"
   ]
  },
  {
   "cell_type": "code",
   "execution_count": 9,
   "metadata": {
    "collapsed": false
   },
   "outputs": [
    {
     "data": {
      "text/plain": [
       "DataFrame[summary: string, label: string]"
      ]
     },
     "execution_count": 9,
     "metadata": {},
     "output_type": "execute_result"
    }
   ],
   "source": [
    "reviews2.describe()"
   ]
  },
  {
   "cell_type": "code",
   "execution_count": 10,
   "metadata": {
    "collapsed": false
   },
   "outputs": [
    {
     "data": {
      "text/plain": [
       "['text', 'label']"
      ]
     },
     "execution_count": 10,
     "metadata": {},
     "output_type": "execute_result"
    }
   ],
   "source": [
    "reviews2.columns"
   ]
  },
  {
   "cell_type": "code",
   "execution_count": 11,
   "metadata": {
    "collapsed": false
   },
   "outputs": [
    {
     "name": "stdout",
     "output_type": "stream",
     "text": [
      "root\n",
      " |-- text: string (nullable = true)\n",
      " |-- label: long (nullable = true)\n",
      "\n"
     ]
    }
   ],
   "source": [
    "reviews2.printSchema()"
   ]
  },
  {
   "cell_type": "code",
   "execution_count": 24,
   "metadata": {
    "collapsed": false
   },
   "outputs": [
    {
     "name": "stdout",
     "output_type": "stream",
     "text": [
      "+-----+-----+\n",
      "|label|count|\n",
      "+-----+-----+\n",
      "|  1.0|  500|\n",
      "|  0.0|  500|\n",
      "+-----+-----+\n",
      "\n"
     ]
    }
   ],
   "source": [
    "reviews.groupBy('label').count().show()"
   ]
  },
  {
   "cell_type": "code",
   "execution_count": null,
   "metadata": {
    "collapsed": true
   },
   "outputs": [],
   "source": []
  }
 ],
 "metadata": {
  "kernelspec": {
   "display_name": "Python [Root]",
   "language": "python",
   "name": "Python [Root]"
  },
  "language_info": {
   "codemirror_mode": {
    "name": "ipython",
    "version": 2
   },
   "file_extension": ".py",
   "mimetype": "text/x-python",
   "name": "python",
   "nbconvert_exporter": "python",
   "pygments_lexer": "ipython2",
   "version": "2.7.12"
  }
 },
 "nbformat": 4,
 "nbformat_minor": 0
}
